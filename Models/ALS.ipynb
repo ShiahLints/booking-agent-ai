{
 "cells": [
  {
   "cell_type": "code",
   "execution_count": 50,
   "metadata": {},
   "outputs": [
    {
     "name": "stdout",
     "output_type": "stream",
     "text": [
      "The autoreload extension is already loaded. To reload it, use:\n",
      "  %reload_ext autoreload\n"
     ]
    }
   ],
   "source": [
    "%load_ext autoreload\n",
    "%autoreload 2\n",
    "import pandas as pd\n",
    "import numpy as np\n",
    "import find_nearest_venues as fnv\n",
    "from sklearn.feature_extraction.text import CountVectorizer\n",
    "from sklearn.metrics.pairwise import cosine_similarity\n",
    "import pyspark\n",
    "from pyspark.sql.types import *\n",
    "from pyspark.ml.tuning import TrainValidationSplit\n",
    "from pyspark.ml.recommendation import ALS\n",
    "from pyspark.ml.evaluation import RegressionEvaluator"
   ]
  },
  {
   "cell_type": "code",
   "execution_count": 51,
   "metadata": {},
   "outputs": [],
   "source": [
    "test_events.venue_id = test_events.venue_id.astype(int)"
   ]
  },
  {
   "cell_type": "code",
   "execution_count": 82,
   "metadata": {},
   "outputs": [],
   "source": [
    "train_events = pd.read_pickle('../data/train_events.p')\n",
    "test_events = pd.read_pickle('../data/test_events_raw.p')\n",
    "train_venues = pd.read_pickle('../data/train_venues.p')\n",
    "artists = pd.read_pickle('../data/artists.p')\n"
   ]
  },
  {
   "cell_type": "code",
   "execution_count": 55,
   "metadata": {},
   "outputs": [],
   "source": [
    "test_events.venue_id = test_events.venue_id.astype(int)"
   ]
  },
  {
   "cell_type": "code",
   "execution_count": null,
   "metadata": {},
   "outputs": [],
   "source": []
  },
  {
   "cell_type": "code",
   "execution_count": 57,
   "metadata": {},
   "outputs": [],
   "source": [
    "def get_some_events(n):\n",
    "    samples = test_events.sample(n)\n",
    "    return samples"
   ]
  },
  {
   "cell_type": "code",
   "execution_count": 58,
   "metadata": {},
   "outputs": [],
   "source": [
    "vf = fnv.Venue_Finder(train_venues)"
   ]
  },
  {
   "cell_type": "code",
   "execution_count": 75,
   "metadata": {},
   "outputs": [],
   "source": [
    "samples = get_some_events(100)"
   ]
  },
  {
   "cell_type": "code",
   "execution_count": 60,
   "metadata": {},
   "outputs": [],
   "source": [
    "def find_nearest_neighbor_by_bio(artist_bio, venues):\n",
    "    cv = CountVectorizer(stop_words='english', max_features=250)\n",
    "    venues_with_bios = venues[~venues.venue_bio.isnull()]\n",
    "    venue_vectors = cv.fit_transform(venues_with_bios.venue_bio)\n",
    "    artist_vector = cv.transform([artist_bio])\n",
    "    artist_neighbors = cosine_similarity(venue_vectors, artist_vector, dense_output=True)\n",
    "    a = list((np.argsort(-artist_neighbors, axis = 0)[0:10]).reshape(1,-1)[0])\n",
    "    neighbors = venues_with_bios.iloc[a,:]\n",
    "    return list(neighbors.venue_id)"
   ]
  },
  {
   "cell_type": "code",
   "execution_count": 61,
   "metadata": {},
   "outputs": [],
   "source": [
    "def find_nearest_neighbor_by_genre(artist_genre, venues):\n",
    "    cv = CountVectorizer(stop_words='english', max_features=100)\n",
    "    venues_with_genres = venues[~venues.venue_genre.isnull()]\n",
    "    venue_vectors = cv.fit_transform(venues_with_genres.venue_genre)\n",
    "    artist_vector = cv.transform([artist_genre])\n",
    "    artist_neighbors = cosine_similarity(venue_vectors, artist_vector, dense_output=True)\n",
    "    a = list((np.argsort(-artist_neighbors, axis = 0)[0:10]).reshape(1,-1)[0])\n",
    "    neighbors = venues_with_genres.iloc[a,:]\n",
    "    return list(neighbors.venue_id)"
   ]
  },
  {
   "cell_type": "code",
   "execution_count": 62,
   "metadata": {},
   "outputs": [],
   "source": [
    "def make_ALS_recomender(rank=17, regParam= 0.03, alpha=40):\n",
    "    ratings_matrix = train_events[['artist_id', 'venue_id']].copy()\n",
    "    ratings_matrix['event_counts'] = 1\n",
    "    ratings_matrix = ratings_matrix.groupby(['artist_id', 'venue_id'], as_index = False)\n",
    "    ratings_matrix = pd.DataFrame(ratings_matrix.count())\n",
    "    #ratings_matrix['event_counts'] = 1\n",
    "    sp_df = spark.createDataFrame(ratings_matrix)\n",
    "    als_model = ALS(userCol='artist_id',\n",
    "                    itemCol='venue_id',\n",
    "                    ratingCol='event_counts',\n",
    "                    nonnegative=True,\n",
    "                    regParam=0.03,\n",
    "                    rank=17,\n",
    "                    implicitPrefs=True,\n",
    "                    alpha = 40)\n",
    "    recomender = als_model.fit(sp_df)\n",
    "    print('recomender_made')\n",
    "    return recomender"
   ]
  },
  {
   "cell_type": "code",
   "execution_count": 63,
   "metadata": {},
   "outputs": [],
   "source": [
    "#change this to get venue_id from sample\n",
    "\n",
    "def make_thing_to_rate(artist_id, venue_id, nvenues):\n",
    "    thing_to_rate = pd.DataFrame()\n",
    "    \n",
    "    thing_to_rate['venue_id'] = vf.get_nearest_venues_by_venue(venue_id, nvenues)['venue_id']\n",
    "    thing_to_rate['artist_id'] = artist_id\n",
    "    return thing_to_rate\n",
    "def venue_not_in_top_n_recomendations(thing_to_rate, venue_id, n, recomender):\n",
    "    spark_rate = spark.createDataFrame(thing_to_rate)\n",
    "    predictions = recomender.transform(spark_rate)\n",
    "    thing = predictions.dropna().sort('prediction',ascending=False).limit(n)\n",
    "    result = thing.filter(thing.venue_id.like('%'+ str(venue_id)+ '%')).rdd.isEmpty()\n",
    "    return result, thing"
   ]
  },
  {
   "cell_type": "code",
   "execution_count": 64,
   "metadata": {},
   "outputs": [],
   "source": [
    "def test_recomender(recomender):\n",
    "    new_venue = 0 \n",
    "    ALS_sucesses = 0\n",
    "    ALS_failures = 0\n",
    "    number_venues_to_search = 100\n",
    "    top_n_venues = 10\n",
    "    for i, event in samples.iterrows():\n",
    "        artist_id = event.artist_id\n",
    "        venue_id = event.venue_id\n",
    "        if venue_id not in train_venues.venue_id.values:\n",
    "            new_venue += 1\n",
    "            print ('new_venue')\n",
    "            continue\n",
    "        thing_to_rate = make_thing_to_rate(artist_id, venue_id, number_venues_to_search)\n",
    "        result, thing = venue_not_in_top_n_recomendations(thing_to_rate, venue_id, top_n_venues, recomender)\n",
    "        if result == False:\n",
    "            ALS_sucesses += 1\n",
    "        else:\n",
    "            ALS_failures += 1\n",
    "    sucess_rate = ALS_sucesses/(ALS_sucesses + ALS_failures)\n",
    "    print ('als_rate ', ALS_sucesses/(ALS_sucesses + ALS_failures))\n",
    "    return sucess_rate"
   ]
  },
  {
   "cell_type": "code",
   "execution_count": 67,
   "metadata": {},
   "outputs": [
    {
     "name": "stdout",
     "output_type": "stream",
     "text": [
      "recomender_made\n",
      "new_venue\n",
      "als_rate  0.5555555555555556\n"
     ]
    }
   ],
   "source": [
    "spark = pyspark.sql.SparkSession.builder.getOrCreate()\n",
    "sc = spark.sparkContext\n",
    "regParams = [.3]\n",
    "results = []\n",
    "for Param in regParams:\n",
    "    recomender = make_ALS_recomender(rank=20, regParam= Param, alpha=40)\n",
    "    results.append(test_recomender(recomender))"
   ]
  },
  {
   "cell_type": "code",
   "execution_count": 80,
   "metadata": {},
   "outputs": [
    {
     "name": "stdout",
     "output_type": "stream",
     "text": [
      "bio_rate  0.7307692307692307\n",
      "genre_rate  0.6153846153846154\n"
     ]
    }
   ],
   "source": [
    "no_bio = 0\n",
    "no_genre = 0\n",
    "new_venue = 0 \n",
    "bio_sucesses = 0\n",
    "bio_failures = 0\n",
    "genre_sucesses = 0\n",
    "genre_failures = 0\n",
    "number_venues = 100\n",
    "top_n = 10\n",
    "for i, event in samples.iterrows():\n",
    "    artist_id = event.artist_id\n",
    "    venue_id = event.venue_id\n",
    "    artist_bio = event.artist_bio\n",
    "    artist_genre = event.artist_genre\n",
    "    if venue_id not in train_venues.venue_id.values:\n",
    "        new_venue += 1\n",
    "        continue\n",
    "    venues = vf.get_nearest_venues_by_venue(venue_id, number_venues)\n",
    "    \n",
    "    if artist_bio == None:\n",
    "        no_bio += 1\n",
    "    else:\n",
    "        if venue_id in find_nearest_neighbor_by_bio(artist_bio, venues):\n",
    "            bio_sucesses += 1\n",
    "        else:\n",
    "            bio_failures += 1\n",
    "    if artist_genre == None:\n",
    "        no_genre += 1\n",
    "    else:\n",
    "        if venue_id in find_nearest_neighbor_by_genre(artist_genre, venues):\n",
    "            genre_sucesses += 1\n",
    "        else:\n",
    "            genre_failures += 1\n",
    "    \n",
    "print ('bio_rate ', bio_sucesses/(bio_sucesses + bio_failures))\n",
    "print ('genre_rate ', genre_sucesses/(genre_sucesses + genre_failures))\n",
    " "
   ]
  },
  {
   "cell_type": "code",
   "execution_count": 74,
   "metadata": {},
   "outputs": [
    {
     "data": {
      "text/plain": [
       "0.43465914140023476"
      ]
     },
     "execution_count": 74,
     "metadata": {},
     "output_type": "execute_result"
    }
   ],
   "source": [
    "1 - 99*98*97*96*95*94*93*92*91*90/(100**10)"
   ]
  },
  {
   "cell_type": "code",
   "execution_count": null,
   "metadata": {},
   "outputs": [],
   "source": [
    "df['event_counts'] = 1"
   ]
  },
  {
   "cell_type": "code",
   "execution_count": 323,
   "metadata": {},
   "outputs": [
    {
     "data": {
      "text/plain": [
       "(6009, 29)"
      ]
     },
     "execution_count": 323,
     "metadata": {},
     "output_type": "execute_result"
    }
   ],
   "source": [
    "test_events.shape"
   ]
  },
  {
   "cell_type": "code",
   "execution_count": 32,
   "metadata": {},
   "outputs": [],
   "source": [
    "ratings_matrix = train_events[['artist_id', 'venue_id']].copy()"
   ]
  },
  {
   "cell_type": "code",
   "execution_count": 33,
   "metadata": {},
   "outputs": [],
   "source": [
    "ratings_matrix['event_counts'] = 1"
   ]
  },
  {
   "cell_type": "code",
   "execution_count": 34,
   "metadata": {},
   "outputs": [],
   "source": [
    "ratings_matrix = ratings_matrix.groupby(['artist_id', 'venue_id'], as_index = False)"
   ]
  },
  {
   "cell_type": "code",
   "execution_count": 35,
   "metadata": {},
   "outputs": [],
   "source": [
    "ratings_matrix = pd.DataFrame(ratings_matrix.count())"
   ]
  },
  {
   "cell_type": "code",
   "execution_count": 36,
   "metadata": {},
   "outputs": [],
   "source": [
    "ratings_matrix['event_counts'] = 1"
   ]
  },
  {
   "cell_type": "code",
   "execution_count": 37,
   "metadata": {},
   "outputs": [],
   "source": [
    "spark = pyspark.sql.SparkSession.builder.getOrCreate()\n",
    "sc = spark.sparkContext"
   ]
  },
  {
   "cell_type": "code",
   "execution_count": 38,
   "metadata": {},
   "outputs": [],
   "source": [
    "sp_df = spark.createDataFrame(ratings_matrix)"
   ]
  },
  {
   "cell_type": "code",
   "execution_count": 39,
   "metadata": {},
   "outputs": [
    {
     "name": "stdout",
     "output_type": "stream",
     "text": [
      "+---------+--------+------------+\n",
      "|artist_id|venue_id|event_counts|\n",
      "+---------+--------+------------+\n",
      "|        4|     339|           1|\n",
      "|        7|    3047|           1|\n",
      "|        7|    6003|           1|\n",
      "|       12|    2378|           1|\n",
      "|       12|    4198|           1|\n",
      "|       12|    4695|           1|\n",
      "|       12|    7023|           1|\n",
      "|       12|    7392|           1|\n",
      "|       16|    1309|           1|\n",
      "|       16|    2904|           1|\n",
      "|       16|    3167|           1|\n",
      "|       16|    4172|           1|\n",
      "|       16|    5823|           1|\n",
      "|       16|    6287|           1|\n",
      "|       18|    1497|           1|\n",
      "|       18|    1639|           1|\n",
      "|       18|    2378|           1|\n",
      "|       18|    5981|           1|\n",
      "|       18|    7370|           1|\n",
      "|       21|    2515|           1|\n",
      "+---------+--------+------------+\n",
      "only showing top 20 rows\n",
      "\n"
     ]
    }
   ],
   "source": [
    "sp_df.show()"
   ]
  },
  {
   "cell_type": "code",
   "execution_count": 40,
   "metadata": {},
   "outputs": [],
   "source": [
    "als_model = ALS(userCol='venue_id',\n",
    "                itemCol='artist_id',\n",
    "                ratingCol='event_counts',\n",
    "                nonnegative=True,\n",
    "                regParam=0.03,\n",
    "                rank=17,\n",
    "                implicitPrefs=True,\n",
    "                alpha = 40)"
   ]
  },
  {
   "cell_type": "code",
   "execution_count": 41,
   "metadata": {},
   "outputs": [],
   "source": [
    "recomender = als_model.fit(sp_df)"
   ]
  },
  {
   "cell_type": "code",
   "execution_count": 383,
   "metadata": {},
   "outputs": [
    {
     "data": {
      "text/html": [
       "<div>\n",
       "<style scoped>\n",
       "    .dataframe tbody tr th:only-of-type {\n",
       "        vertical-align: middle;\n",
       "    }\n",
       "\n",
       "    .dataframe tbody tr th {\n",
       "        vertical-align: top;\n",
       "    }\n",
       "\n",
       "    .dataframe thead th {\n",
       "        text-align: right;\n",
       "    }\n",
       "</style>\n",
       "<table border=\"1\" class=\"dataframe\">\n",
       "  <thead>\n",
       "    <tr style=\"text-align: right;\">\n",
       "      <th></th>\n",
       "      <th>_id</th>\n",
       "      <th>artist_facebook</th>\n",
       "      <th>artist_id</th>\n",
       "      <th>artist_image</th>\n",
       "      <th>artist_name</th>\n",
       "      <th>artist_thumb</th>\n",
       "      <th>artist_url</th>\n",
       "      <th>artist_bio</th>\n",
       "      <th>artist_genre</th>\n",
       "      <th>home_town</th>\n",
       "      <th>...</th>\n",
       "      <th>event_url</th>\n",
       "      <th>venue_name</th>\n",
       "      <th>country</th>\n",
       "      <th>region</th>\n",
       "      <th>city</th>\n",
       "      <th>latitude</th>\n",
       "      <th>longitude</th>\n",
       "      <th>vn_original</th>\n",
       "      <th>venueidentifer</th>\n",
       "      <th>venue_id</th>\n",
       "    </tr>\n",
       "  </thead>\n",
       "  <tbody>\n",
       "    <tr>\n",
       "      <th>57250</th>\n",
       "      <td>5b77a026482deb6355863728</td>\n",
       "      <td></td>\n",
       "      <td>119355</td>\n",
       "      <td>https://s3.amazonaws.com/bit-photos/large/2300...</td>\n",
       "      <td>Mary Youngblood</td>\n",
       "      <td>https://s3.amazonaws.com/bit-photos/thumb/2300...</td>\n",
       "      <td>https://www.bandsintown.com/a/119355?came_from...</td>\n",
       "      <td>None</td>\n",
       "      <td>None</td>\n",
       "      <td>None</td>\n",
       "      <td>...</td>\n",
       "      <td>https://www.bandsintown.com/e/1010476361?app_i...</td>\n",
       "      <td>sofia</td>\n",
       "      <td>United States</td>\n",
       "      <td>CA</td>\n",
       "      <td>Sacramento</td>\n",
       "      <td>38.572569</td>\n",
       "      <td>-121.475330</td>\n",
       "      <td>The Sofia Tsakopoulos Center for The Arts</td>\n",
       "      <td>sofia Sacramento CA United States</td>\n",
       "      <td>6351</td>\n",
       "    </tr>\n",
       "    <tr>\n",
       "      <th>84585</th>\n",
       "      <td>5b7840e8482deb635586d0bc</td>\n",
       "      <td>https://www.facebook.com/echosofficial/</td>\n",
       "      <td>956212</td>\n",
       "      <td>https://s3.amazonaws.com/bit-photos/large/7869...</td>\n",
       "      <td>Echos</td>\n",
       "      <td>https://s3.amazonaws.com/bit-photos/thumb/7869...</td>\n",
       "      <td>https://www.bandsintown.com/a/956212?came_from...</td>\n",
       "      <td>Pre-order our self titled EP here: apple.co/2c...</td>\n",
       "      <td>Metal, Rock, Punk, Progressive Metal, Post Har...</td>\n",
       "      <td>Portland, OR</td>\n",
       "      <td>...</td>\n",
       "      <td>https://www.bandsintown.com/e/1010770349?app_i...</td>\n",
       "      <td>oc fair event center</td>\n",
       "      <td>United States</td>\n",
       "      <td>CA</td>\n",
       "      <td>Costa Mesa</td>\n",
       "      <td>33.666608</td>\n",
       "      <td>-117.899463</td>\n",
       "      <td>OC Fair &amp; Event Center</td>\n",
       "      <td>oc fair event center Costa Mesa CA United States</td>\n",
       "      <td>4754</td>\n",
       "    </tr>\n",
       "    <tr>\n",
       "      <th>17185</th>\n",
       "      <td>5b77487c482deb6355803612</td>\n",
       "      <td></td>\n",
       "      <td>6486836</td>\n",
       "      <td>https://s3.amazonaws.com/bit-photos/large/8453...</td>\n",
       "      <td>Jordan Davis</td>\n",
       "      <td>https://s3.amazonaws.com/bit-photos/thumb/8453...</td>\n",
       "      <td>https://www.bandsintown.com/a/6486836?came_fro...</td>\n",
       "      <td>None</td>\n",
       "      <td>Rock</td>\n",
       "      <td>None</td>\n",
       "      <td>...</td>\n",
       "      <td>https://www.bandsintown.com/e/1010990079?app_i...</td>\n",
       "      <td>house of blues</td>\n",
       "      <td>United States</td>\n",
       "      <td>CA</td>\n",
       "      <td>San Diego</td>\n",
       "      <td>32.716534</td>\n",
       "      <td>-117.160253</td>\n",
       "      <td>House of Blues San Diego</td>\n",
       "      <td>house of blues San Diego CA United States</td>\n",
       "      <td>3167</td>\n",
       "    </tr>\n",
       "    <tr>\n",
       "      <th>95606</th>\n",
       "      <td>5b78592a482deb635586e76b</td>\n",
       "      <td></td>\n",
       "      <td>4940989</td>\n",
       "      <td>https://s3.amazonaws.com/bit-photos/large/7772...</td>\n",
       "      <td>Joseph Solomon</td>\n",
       "      <td>https://s3.amazonaws.com/bit-photos/thumb/7772...</td>\n",
       "      <td>https://www.bandsintown.com/a/4940989?came_fro...</td>\n",
       "      <td>Joseph Solomon is a poet, speaker, singer-song...</td>\n",
       "      <td>None</td>\n",
       "      <td>None</td>\n",
       "      <td>...</td>\n",
       "      <td>https://www.bandsintown.com/e/1010227883?app_i...</td>\n",
       "      <td>poets in autumn</td>\n",
       "      <td>United States</td>\n",
       "      <td>CA</td>\n",
       "      <td>Los Angeles</td>\n",
       "      <td>34.052222</td>\n",
       "      <td>-118.242778</td>\n",
       "      <td>POETS IN AUTUMN</td>\n",
       "      <td>poets in autumn Los Angeles CA United States</td>\n",
       "      <td>5250</td>\n",
       "    </tr>\n",
       "    <tr>\n",
       "      <th>20021</th>\n",
       "      <td>5b774e50482deb6355803f24</td>\n",
       "      <td>https://www.facebook.com/pages/FABULOUS-THUNDE...</td>\n",
       "      <td>46507</td>\n",
       "      <td>https://s3.amazonaws.com/bit-photos/large/6886...</td>\n",
       "      <td>The Fabulous Thunderbirds</td>\n",
       "      <td>https://s3.amazonaws.com/bit-photos/thumb/6886...</td>\n",
       "      <td>https://www.bandsintown.com/a/46507?came_from=...</td>\n",
       "      <td>Formed in 1974 by Kim Wilson and Jimmie Vaugha...</td>\n",
       "      <td>Blues</td>\n",
       "      <td>Austin, Texas</td>\n",
       "      <td>...</td>\n",
       "      <td>https://www.bandsintown.com/e/1008350563?app_i...</td>\n",
       "      <td>everett theatre</td>\n",
       "      <td>United States</td>\n",
       "      <td>WA</td>\n",
       "      <td>Everett</td>\n",
       "      <td>47.986684</td>\n",
       "      <td>-122.201080</td>\n",
       "      <td>Historic Everett Theatre</td>\n",
       "      <td>everett theatre Everett WA United States</td>\n",
       "      <td>2195</td>\n",
       "    </tr>\n",
       "  </tbody>\n",
       "</table>\n",
       "<p>5 rows × 29 columns</p>\n",
       "</div>"
      ],
      "text/plain": [
       "                            _id  \\\n",
       "57250  5b77a026482deb6355863728   \n",
       "84585  5b7840e8482deb635586d0bc   \n",
       "17185  5b77487c482deb6355803612   \n",
       "95606  5b78592a482deb635586e76b   \n",
       "20021  5b774e50482deb6355803f24   \n",
       "\n",
       "                                         artist_facebook  artist_id  \\\n",
       "57250                                                        119355   \n",
       "84585            https://www.facebook.com/echosofficial/     956212   \n",
       "17185                                                       6486836   \n",
       "95606                                                       4940989   \n",
       "20021  https://www.facebook.com/pages/FABULOUS-THUNDE...      46507   \n",
       "\n",
       "                                            artist_image  \\\n",
       "57250  https://s3.amazonaws.com/bit-photos/large/2300...   \n",
       "84585  https://s3.amazonaws.com/bit-photos/large/7869...   \n",
       "17185  https://s3.amazonaws.com/bit-photos/large/8453...   \n",
       "95606  https://s3.amazonaws.com/bit-photos/large/7772...   \n",
       "20021  https://s3.amazonaws.com/bit-photos/large/6886...   \n",
       "\n",
       "                     artist_name  \\\n",
       "57250            Mary Youngblood   \n",
       "84585                      Echos   \n",
       "17185               Jordan Davis   \n",
       "95606             Joseph Solomon   \n",
       "20021  The Fabulous Thunderbirds   \n",
       "\n",
       "                                            artist_thumb  \\\n",
       "57250  https://s3.amazonaws.com/bit-photos/thumb/2300...   \n",
       "84585  https://s3.amazonaws.com/bit-photos/thumb/7869...   \n",
       "17185  https://s3.amazonaws.com/bit-photos/thumb/8453...   \n",
       "95606  https://s3.amazonaws.com/bit-photos/thumb/7772...   \n",
       "20021  https://s3.amazonaws.com/bit-photos/thumb/6886...   \n",
       "\n",
       "                                              artist_url  \\\n",
       "57250  https://www.bandsintown.com/a/119355?came_from...   \n",
       "84585  https://www.bandsintown.com/a/956212?came_from...   \n",
       "17185  https://www.bandsintown.com/a/6486836?came_fro...   \n",
       "95606  https://www.bandsintown.com/a/4940989?came_fro...   \n",
       "20021  https://www.bandsintown.com/a/46507?came_from=...   \n",
       "\n",
       "                                              artist_bio  \\\n",
       "57250                                               None   \n",
       "84585  Pre-order our self titled EP here: apple.co/2c...   \n",
       "17185                                               None   \n",
       "95606  Joseph Solomon is a poet, speaker, singer-song...   \n",
       "20021  Formed in 1974 by Kim Wilson and Jimmie Vaugha...   \n",
       "\n",
       "                                            artist_genre      home_town  \\\n",
       "57250                                               None           None   \n",
       "84585  Metal, Rock, Punk, Progressive Metal, Post Har...   Portland, OR   \n",
       "17185                                               Rock           None   \n",
       "95606                                               None           None   \n",
       "20021                                              Blues  Austin, Texas   \n",
       "\n",
       "        ...                                             event_url  \\\n",
       "57250   ...     https://www.bandsintown.com/e/1010476361?app_i...   \n",
       "84585   ...     https://www.bandsintown.com/e/1010770349?app_i...   \n",
       "17185   ...     https://www.bandsintown.com/e/1010990079?app_i...   \n",
       "95606   ...     https://www.bandsintown.com/e/1010227883?app_i...   \n",
       "20021   ...     https://www.bandsintown.com/e/1008350563?app_i...   \n",
       "\n",
       "                 venue_name        country region         city   latitude  \\\n",
       "57250                 sofia  United States     CA   Sacramento  38.572569   \n",
       "84585  oc fair event center  United States     CA   Costa Mesa  33.666608   \n",
       "17185        house of blues  United States     CA    San Diego  32.716534   \n",
       "95606       poets in autumn  United States     CA  Los Angeles  34.052222   \n",
       "20021       everett theatre  United States     WA      Everett  47.986684   \n",
       "\n",
       "        longitude                                vn_original  \\\n",
       "57250 -121.475330  The Sofia Tsakopoulos Center for The Arts   \n",
       "84585 -117.899463                     OC Fair & Event Center   \n",
       "17185 -117.160253                   House of Blues San Diego   \n",
       "95606 -118.242778                            POETS IN AUTUMN   \n",
       "20021 -122.201080                   Historic Everett Theatre   \n",
       "\n",
       "                                         venueidentifer venue_id  \n",
       "57250                 sofia Sacramento CA United States     6351  \n",
       "84585  oc fair event center Costa Mesa CA United States     4754  \n",
       "17185         house of blues San Diego CA United States     3167  \n",
       "95606      poets in autumn Los Angeles CA United States     5250  \n",
       "20021          everett theatre Everett WA United States     2195  \n",
       "\n",
       "[5 rows x 29 columns]"
      ]
     },
     "execution_count": 383,
     "metadata": {},
     "output_type": "execute_result"
    }
   ],
   "source": [
    "test_events.head(5)"
   ]
  },
  {
   "cell_type": "code",
   "execution_count": 384,
   "metadata": {},
   "outputs": [
    {
     "data": {
      "text/html": [
       "<div>\n",
       "<style scoped>\n",
       "    .dataframe tbody tr th:only-of-type {\n",
       "        vertical-align: middle;\n",
       "    }\n",
       "\n",
       "    .dataframe tbody tr th {\n",
       "        vertical-align: top;\n",
       "    }\n",
       "\n",
       "    .dataframe thead th {\n",
       "        text-align: right;\n",
       "    }\n",
       "</style>\n",
       "<table border=\"1\" class=\"dataframe\">\n",
       "  <thead>\n",
       "    <tr style=\"text-align: right;\">\n",
       "      <th></th>\n",
       "      <th>venueidentifer</th>\n",
       "      <th>venue_name</th>\n",
       "      <th>country</th>\n",
       "      <th>region</th>\n",
       "      <th>city</th>\n",
       "      <th>venue_genre</th>\n",
       "      <th>venue_bio</th>\n",
       "      <th>latitude</th>\n",
       "      <th>longitude</th>\n",
       "      <th>venue_id</th>\n",
       "    </tr>\n",
       "  </thead>\n",
       "  <tbody>\n",
       "    <tr>\n",
       "      <th>1948</th>\n",
       "      <td>everett theatre Everett WA United States</td>\n",
       "      <td>everett theatre</td>\n",
       "      <td>United States</td>\n",
       "      <td>WA</td>\n",
       "      <td>Everett</td>\n",
       "      <td>Folk All Styles Of Music   Rock, Pop  R&amp;b/soul...</td>\n",
       "      <td>Singer, songwriter, producer and multi-instru...</td>\n",
       "      <td>47.986684</td>\n",
       "      <td>-122.20108</td>\n",
       "      <td>2195</td>\n",
       "    </tr>\n",
       "  </tbody>\n",
       "</table>\n",
       "</div>"
      ],
      "text/plain": [
       "                                venueidentifer       venue_name  \\\n",
       "1948  everett theatre Everett WA United States  everett theatre   \n",
       "\n",
       "            country region     city  \\\n",
       "1948  United States     WA  Everett   \n",
       "\n",
       "                                            venue_genre  \\\n",
       "1948  Folk All Styles Of Music   Rock, Pop  R&b/soul...   \n",
       "\n",
       "                                              venue_bio   latitude  longitude  \\\n",
       "1948   Singer, songwriter, producer and multi-instru...  47.986684 -122.20108   \n",
       "\n",
       "      venue_id  \n",
       "1948      2195  "
      ]
     },
     "execution_count": 384,
     "metadata": {},
     "output_type": "execute_result"
    }
   ],
   "source": [
    "train_venues[train_venues.venue_id == 2195]"
   ]
  },
  {
   "cell_type": "code",
   "execution_count": 13,
   "metadata": {},
   "outputs": [],
   "source": [
    "#Train model\n",
    "\n",
    "ratings_matrix = train_events[['artist_id', 'venue_id']].copy()\n",
    "ratings_matrix['event_counts'] = 1\n",
    "ratings_matrix = ratings_matrix.groupby(['artist_id', 'venue_id'], as_index = False)\n",
    "ratings_matrix = pd.DataFrame(ratings_matrix.count())\n",
    "#ratings_matrix['event_counts'] = 1\n",
    "spark = pyspark.sql.SparkSession.builder.getOrCreate()\n",
    "sc = spark.sparkContext\n",
    "sp_df = spark.createDataFrame(ratings_matrix)\n",
    "als_model = ALS(userCol='venue_id',\n",
    "                itemCol='artist_id',\n",
    "                ratingCol='event_counts',\n",
    "                nonnegative=True,\n",
    "                regParam=0.03,\n",
    "                rank=17,\n",
    "                implicitPrefs=True,\n",
    "                alpha = 40)\n",
    "recomender = als_model.fit(sp_df)"
   ]
  },
  {
   "cell_type": "code",
   "execution_count": 37,
   "metadata": {},
   "outputs": [],
   "source": [
    "#change this to get venue_id from sample\n",
    "\n",
    "def make_artist_venue_to_rate(artist_id, venue_id):\n",
    "    train_venues[train_venues.venue_id == venue_id]\n",
    "    thing_to_rate = pd.DataFrame()\n",
    "    thing_to_rate['venue_id'] = vf.get_nearest_venues_by_venue(veneu_id, 200)['venue_id']\n",
    "    thing_to_rate['artist_id'] = artist_id\n",
    "    return thing_to_rate\n",
    "def check_spark(thing_to_rate):\n",
    "    spark_rate = spark.createDataFrame(thing_to_rate)\n",
    "    predictions = recomender.transform(spark_rate)\n",
    "    thing = predictions.dropna().sort('prediction',ascending=False).limit(10)\n",
    "    result = thing.filter(thing.venue_id.like('%4170%')).rdd.isEmpty()\n",
    "    return result"
   ]
  },
  {
   "cell_type": "code",
   "execution_count": 398,
   "metadata": {},
   "outputs": [],
   "source": [
    "nearest_venues = vf.get_nearest_venues_by_venue(2195, 200)['venue_id']"
   ]
  },
  {
   "cell_type": "code",
   "execution_count": 10,
   "metadata": {},
   "outputs": [],
   "source": [
    "thing_to_rate = pd.DataFrame()"
   ]
  },
  {
   "cell_type": "code",
   "execution_count": 11,
   "metadata": {},
   "outputs": [],
   "source": [
    "thing_to_rate['venue_id'] = vf.get_nearest_venues_by_venue(2195, 200)['venue_id']"
   ]
  },
  {
   "cell_type": "code",
   "execution_count": 12,
   "metadata": {},
   "outputs": [],
   "source": [
    "thing_to_rate['artist_id'] = 46507"
   ]
  },
  {
   "cell_type": "code",
   "execution_count": 13,
   "metadata": {},
   "outputs": [],
   "source": [
    "spark_rate = spark.createDataFrame(thing_to_rate)"
   ]
  },
  {
   "cell_type": "code",
   "execution_count": 25,
   "metadata": {},
   "outputs": [],
   "source": [
    "predictions = recomender.transform(spark_rate)"
   ]
  },
  {
   "cell_type": "code",
   "execution_count": 27,
   "metadata": {},
   "outputs": [
    {
     "data": {
      "text/plain": [
       "False"
      ]
     },
     "execution_count": 27,
     "metadata": {},
     "output_type": "execute_result"
    }
   ],
   "source": [
    "thing =predictions.dropna().sort('prediction',ascending=False)\n",
    "thing.filter(thing.venue_id.like('%4170%')).rdd.isEmpty()\n"
   ]
  },
  {
   "cell_type": "code",
   "execution_count": 34,
   "metadata": {},
   "outputs": [],
   "source": [
    "thing = predictions.dropna().sort('prediction',ascending=False).limit(10)\n",
    "\n",
    "thing.filter(thing.venue_id.like('%4170%')).rdd.isEmpty()"
   ]
  },
  {
   "cell_type": "code",
   "execution_count": 23,
   "metadata": {},
   "outputs": [
    {
     "data": {
      "text/plain": [
       "False"
      ]
     },
     "execution_count": 23,
     "metadata": {},
     "output_type": "execute_result"
    }
   ],
   "source": [
    "thing.filter(thing.venue_id.like('%4170%')).rdd.isEmpty()"
   ]
  },
  {
   "cell_type": "code",
   "execution_count": 418,
   "metadata": {},
   "outputs": [],
   "source": [
    "thing1 = thing.limit(10)"
   ]
  },
  {
   "cell_type": "code",
   "execution_count": 20,
   "metadata": {},
   "outputs": [
    {
     "name": "stdout",
     "output_type": "stream",
     "text": [
      "+--------+---------+-----------+\n",
      "|venue_id|artist_id| prediction|\n",
      "+--------+---------+-----------+\n",
      "|    1276|    46507| 0.27925396|\n",
      "|     317|    46507| 0.14863728|\n",
      "|    1275|    46507| 0.13533342|\n",
      "|     518|    46507| 0.12131372|\n",
      "|    4170|    46507|0.115987405|\n",
      "|     325|    46507|0.105548136|\n",
      "|     324|    46507|0.105548136|\n",
      "|     323|    46507|0.105548136|\n",
      "|    2517|    46507| 0.10353198|\n",
      "|    2574|    46507| 0.10068774|\n",
      "+--------+---------+-----------+\n",
      "\n"
     ]
    }
   ],
   "source": [
    "thing1.show()"
   ]
  },
  {
   "cell_type": "code",
   "execution_count": 437,
   "metadata": {},
   "outputs": [
    {
     "data": {
      "text/plain": [
       "True"
      ]
     },
     "execution_count": 437,
     "metadata": {},
     "output_type": "execute_result"
    }
   ],
   "source": [
    "thing1.filter(thing1.venue_id.like('%40%')).rdd.isEmpty()"
   ]
  },
  {
   "cell_type": "code",
   "execution_count": 435,
   "metadata": {},
   "outputs": [
    {
     "data": {
      "text/plain": [
       "False"
      ]
     },
     "execution_count": 435,
     "metadata": {},
     "output_type": "execute_result"
    }
   ],
   "source": [
    "thing1.df.rdd.isEmpty()"
   ]
  },
  {
   "cell_type": "code",
   "execution_count": 427,
   "metadata": {},
   "outputs": [
    {
     "ename": "SyntaxError",
     "evalue": "invalid syntax (<ipython-input-427-d36771b181eb>, line 1)",
     "output_type": "error",
     "traceback": [
      "\u001b[0;36m  File \u001b[0;32m\"<ipython-input-427-d36771b181eb>\"\u001b[0;36m, line \u001b[0;32m1\u001b[0m\n\u001b[0;31m    thing1.filter(($\"venue_id\" isin (\"4170\")).show()\u001b[0m\n\u001b[0m                   ^\u001b[0m\n\u001b[0;31mSyntaxError\u001b[0m\u001b[0;31m:\u001b[0m invalid syntax\n"
     ]
    }
   ],
   "source": [
    "thing1.filter(($\"venue_id\" isin (\"4170\")).show()"
   ]
  },
  {
   "cell_type": "code",
   "execution_count": 431,
   "metadata": {},
   "outputs": [
    {
     "ename": "NameError",
     "evalue": "name 'dataframe' is not defined",
     "output_type": "error",
     "traceback": [
      "\u001b[0;31m---------------------------------------------------------------------------\u001b[0m",
      "\u001b[0;31mNameError\u001b[0m                                 Traceback (most recent call last)",
      "\u001b[0;32m<ipython-input-431-be94626afa9d>\u001b[0m in \u001b[0;36m<module>\u001b[0;34m()\u001b[0m\n\u001b[0;32m----> 1\u001b[0;31m \u001b[0misIntContains\u001b[0m\u001b[0;34m:\u001b[0m\u001b[0mBoolean\u001b[0m \u001b[0;34m=\u001b[0m \u001b[0mdataframe\u001b[0m\u001b[0;34m.\u001b[0m\u001b[0mfilter\u001b[0m\u001b[0;34m(\u001b[0m\u001b[0mcol\u001b[0m\u001b[0;34m(\u001b[0m\u001b[0mvenue_id\u001b[0m\u001b[0;34m)\u001b[0m\u001b[0;34m.\u001b[0m\u001b[0mrlike\u001b[0m\u001b[0;34m(\u001b[0m\u001b[0;34m\"4170\"\u001b[0m\u001b[0;34m)\u001b[0m\u001b[0;34m)\u001b[0m\u001b[0;34m.\u001b[0m\u001b[0mtake\u001b[0m\u001b[0;34m(\u001b[0m\u001b[0;36m1\u001b[0m\u001b[0;34m)\u001b[0m\u001b[0;34m.\u001b[0m\u001b[0msize\u001b[0m\u001b[0;34m>\u001b[0m\u001b[0;36m0\u001b[0m\u001b[0;34m\u001b[0m\u001b[0m\n\u001b[0m",
      "\u001b[0;31mNameError\u001b[0m: name 'dataframe' is not defined"
     ]
    }
   ],
   "source": [
    "isIntContains:Boolean = \\\n",
    "dataframe.filter(col(venue_id).rlike(\"4170\")).take(1).size>0\n",
    "\n"
   ]
  },
  {
   "cell_type": "code",
   "execution_count": 405,
   "metadata": {},
   "outputs": [],
   "source": [
    "predictionspd = thing.toPandas()"
   ]
  },
  {
   "cell_type": "code",
   "execution_count": 406,
   "metadata": {},
   "outputs": [],
   "source": [
    "top_pridictions = predictionspd['venue_id'].values[0:20]"
   ]
  },
  {
   "cell_type": "code",
   "execution_count": 407,
   "metadata": {},
   "outputs": [
    {
     "data": {
      "text/plain": [
       "array([4170, 1276, 1275, 6057,  598, 2026, 1771, 6415,  322, 6884, 1307,\n",
       "       4251, 6262, 1514, 2195, 6812, 2203, 5460, 7101, 7099])"
      ]
     },
     "execution_count": 407,
     "metadata": {},
     "output_type": "execute_result"
    }
   ],
   "source": [
    "top_pridictions"
   ]
  },
  {
   "cell_type": "code",
   "execution_count": 408,
   "metadata": {},
   "outputs": [
    {
     "data": {
      "text/html": [
       "<div>\n",
       "<style scoped>\n",
       "    .dataframe tbody tr th:only-of-type {\n",
       "        vertical-align: middle;\n",
       "    }\n",
       "\n",
       "    .dataframe tbody tr th {\n",
       "        vertical-align: top;\n",
       "    }\n",
       "\n",
       "    .dataframe thead th {\n",
       "        text-align: right;\n",
       "    }\n",
       "</style>\n",
       "<table border=\"1\" class=\"dataframe\">\n",
       "  <thead>\n",
       "    <tr style=\"text-align: right;\">\n",
       "      <th></th>\n",
       "      <th>_id</th>\n",
       "      <th>bio</th>\n",
       "      <th>artist_facebook</th>\n",
       "      <th>genre</th>\n",
       "      <th>home_town</th>\n",
       "      <th>artist_id</th>\n",
       "      <th>artist_image</th>\n",
       "      <th>mbid</th>\n",
       "      <th>artist_name</th>\n",
       "      <th>artist_thumb</th>\n",
       "      <th>tour</th>\n",
       "      <th>tracker_count</th>\n",
       "      <th>upcoming_event_count</th>\n",
       "      <th>artist_url</th>\n",
       "    </tr>\n",
       "  </thead>\n",
       "  <tbody>\n",
       "    <tr>\n",
       "      <th>1719</th>\n",
       "      <td>5b774e50482deb6355803f24</td>\n",
       "      <td>Formed in 1974 by Kim Wilson and Jimmie Vaugha...</td>\n",
       "      <td>https://www.facebook.com/pages/FABULOUS-THUNDE...</td>\n",
       "      <td>Blues</td>\n",
       "      <td>Austin, Texas</td>\n",
       "      <td>46507</td>\n",
       "      <td>https://s3.amazonaws.com/bit-photos/large/6886...</td>\n",
       "      <td>835cbbdd-4a59-45a9-bf37-6d2050aec2a9</td>\n",
       "      <td>The Fabulous Thunderbirds</td>\n",
       "      <td>https://s3.amazonaws.com/bit-photos/thumb/6886...</td>\n",
       "      <td>[{'offers': [{'type': 'Tickets', 'url': 'https...</td>\n",
       "      <td>36315</td>\n",
       "      <td>39</td>\n",
       "      <td>https://www.bandsintown.com/a/46507?came_from=...</td>\n",
       "    </tr>\n",
       "  </tbody>\n",
       "</table>\n",
       "</div>"
      ],
      "text/plain": [
       "                           _id  \\\n",
       "1719  5b774e50482deb6355803f24   \n",
       "\n",
       "                                                    bio  \\\n",
       "1719  Formed in 1974 by Kim Wilson and Jimmie Vaugha...   \n",
       "\n",
       "                                        artist_facebook  genre      home_town  \\\n",
       "1719  https://www.facebook.com/pages/FABULOUS-THUNDE...  Blues  Austin, Texas   \n",
       "\n",
       "      artist_id                                       artist_image  \\\n",
       "1719      46507  https://s3.amazonaws.com/bit-photos/large/6886...   \n",
       "\n",
       "                                      mbid                artist_name  \\\n",
       "1719  835cbbdd-4a59-45a9-bf37-6d2050aec2a9  The Fabulous Thunderbirds   \n",
       "\n",
       "                                           artist_thumb  \\\n",
       "1719  https://s3.amazonaws.com/bit-photos/thumb/6886...   \n",
       "\n",
       "                                                   tour  tracker_count  \\\n",
       "1719  [{'offers': [{'type': 'Tickets', 'url': 'https...          36315   \n",
       "\n",
       "      upcoming_event_count                                         artist_url  \n",
       "1719                    39  https://www.bandsintown.com/a/46507?came_from=...  "
      ]
     },
     "execution_count": 408,
     "metadata": {},
     "output_type": "execute_result"
    }
   ],
   "source": [
    "artists[artists['artist_id']== 46507]"
   ]
  },
  {
   "cell_type": "code",
   "execution_count": 409,
   "metadata": {},
   "outputs": [
    {
     "data": {
      "text/html": [
       "<div>\n",
       "<style scoped>\n",
       "    .dataframe tbody tr th:only-of-type {\n",
       "        vertical-align: middle;\n",
       "    }\n",
       "\n",
       "    .dataframe tbody tr th {\n",
       "        vertical-align: top;\n",
       "    }\n",
       "\n",
       "    .dataframe thead th {\n",
       "        text-align: right;\n",
       "    }\n",
       "</style>\n",
       "<table border=\"1\" class=\"dataframe\">\n",
       "  <thead>\n",
       "    <tr style=\"text-align: right;\">\n",
       "      <th></th>\n",
       "      <th>venueidentifer</th>\n",
       "      <th>venue_name</th>\n",
       "      <th>country</th>\n",
       "      <th>region</th>\n",
       "      <th>city</th>\n",
       "      <th>venue_genre</th>\n",
       "      <th>venue_bio</th>\n",
       "      <th>latitude</th>\n",
       "      <th>longitude</th>\n",
       "      <th>venue_id</th>\n",
       "    </tr>\n",
       "  </thead>\n",
       "  <tbody>\n",
       "    <tr>\n",
       "      <th>280</th>\n",
       "      <td>angel of winds arena Everett WA United States</td>\n",
       "      <td>angel of winds arena</td>\n",
       "      <td>United States</td>\n",
       "      <td>WA</td>\n",
       "      <td>Everett</td>\n",
       "      <td>Shock Rock, Rock, Rock N Roll Rock Hard Rock R...</td>\n",
       "      <td>In 1975, Alice Cooper joined forces with longt...</td>\n",
       "      <td>47.978900</td>\n",
       "      <td>-122.201858</td>\n",
       "      <td>322</td>\n",
       "    </tr>\n",
       "    <tr>\n",
       "      <th>529</th>\n",
       "      <td>beach rock music sports Suquamish WA United St...</td>\n",
       "      <td>beach rock music sports</td>\n",
       "      <td>United States</td>\n",
       "      <td>WA</td>\n",
       "      <td>Suquamish</td>\n",
       "      <td>Alternative, Rock, Grunge Hip-hop, Rap, Hip Hop</td>\n",
       "      <td></td>\n",
       "      <td>47.731389</td>\n",
       "      <td>-122.551111</td>\n",
       "      <td>598</td>\n",
       "    </tr>\n",
       "    <tr>\n",
       "      <th>1132</th>\n",
       "      <td>chateau ste michelle w steve miller band Woodi...</td>\n",
       "      <td>chateau ste michelle w steve miller band</td>\n",
       "      <td>United States</td>\n",
       "      <td>WA</td>\n",
       "      <td>Woodinville</td>\n",
       "      <td>Rock, Classic Rock, Guitar Rock, Classic Rock,...</td>\n",
       "      <td>Grammy winner Peter Frampton remains one of th...</td>\n",
       "      <td>47.728770</td>\n",
       "      <td>-122.150003</td>\n",
       "      <td>1275</td>\n",
       "    </tr>\n",
       "    <tr>\n",
       "      <th>1133</th>\n",
       "      <td>chateau ste michelle winery Woodinville WA Uni...</td>\n",
       "      <td>chateau ste michelle winery</td>\n",
       "      <td>United States</td>\n",
       "      <td>WA</td>\n",
       "      <td>Woodinville</td>\n",
       "      <td>Blues, Folk, Folk Rock, Alternative Blues Rock...</td>\n",
       "      <td>BEN HARPER &amp; CHARLIE MUSSELWHITE BIOThere’s a ...</td>\n",
       "      <td>47.733422</td>\n",
       "      <td>-122.152337</td>\n",
       "      <td>1276</td>\n",
       "    </tr>\n",
       "    <tr>\n",
       "      <th>1161</th>\n",
       "      <td>chomp Southeast Redmond WA United States</td>\n",
       "      <td>chomp</td>\n",
       "      <td>United States</td>\n",
       "      <td>WA</td>\n",
       "      <td>Southeast Redmond</td>\n",
       "      <td>Punk, Jazz</td>\n",
       "      <td>Official Skerik music page.</td>\n",
       "      <td>47.660908</td>\n",
       "      <td>-122.119648</td>\n",
       "      <td>1307</td>\n",
       "    </tr>\n",
       "    <tr>\n",
       "      <th>1333</th>\n",
       "      <td>conway muse Conway WA United States</td>\n",
       "      <td>conway muse</td>\n",
       "      <td>United States</td>\n",
       "      <td>WA</td>\n",
       "      <td>Conway</td>\n",
       "      <td>Americana, Soul, Rock Guitar Virtuoso, Acousti...</td>\n",
       "      <td>Done:Aussie soul slinger Kara’s Grainger is kn...</td>\n",
       "      <td>48.340627</td>\n",
       "      <td>-122.343623</td>\n",
       "      <td>1514</td>\n",
       "    </tr>\n",
       "    <tr>\n",
       "      <th>1561</th>\n",
       "      <td>deify and emperidol special guests lucas tayne...</td>\n",
       "      <td>deify and emperidol special guests lucas tayne...</td>\n",
       "      <td>United States</td>\n",
       "      <td>WA</td>\n",
       "      <td>Seattle</td>\n",
       "      <td>Rockn Roll</td>\n",
       "      <td>Deify is a rock band based in Seattle, WA comp...</td>\n",
       "      <td>47.668360</td>\n",
       "      <td>-122.376958</td>\n",
       "      <td>1771</td>\n",
       "    </tr>\n",
       "    <tr>\n",
       "      <th>1797</th>\n",
       "      <td>edmonds center for arts Edmonds WA United States</td>\n",
       "      <td>edmonds center for arts</td>\n",
       "      <td>United States</td>\n",
       "      <td>WA</td>\n",
       "      <td>Edmonds</td>\n",
       "      <td>Contemporary Soul World Music Folk, R&amp;b/soul, ...</td>\n",
       "      <td>Easy come, easy go; was the lesson two-time Em...</td>\n",
       "      <td>47.810785</td>\n",
       "      <td>-122.375613</td>\n",
       "      <td>2026</td>\n",
       "    </tr>\n",
       "    <tr>\n",
       "      <th>1948</th>\n",
       "      <td>everett theatre Everett WA United States</td>\n",
       "      <td>everett theatre</td>\n",
       "      <td>United States</td>\n",
       "      <td>WA</td>\n",
       "      <td>Everett</td>\n",
       "      <td>Folk All Styles Of Music   Rock, Pop  R&amp;b/soul...</td>\n",
       "      <td>Singer, songwriter, producer and multi-instru...</td>\n",
       "      <td>47.986684</td>\n",
       "      <td>-122.201080</td>\n",
       "      <td>2195</td>\n",
       "    </tr>\n",
       "    <tr>\n",
       "      <th>1956</th>\n",
       "      <td>evergreen state fairgrounds Monroe WA United S...</td>\n",
       "      <td>evergreen state fairgrounds</td>\n",
       "      <td>United States</td>\n",
       "      <td>WA</td>\n",
       "      <td>Monroe</td>\n",
       "      <td>Country</td>\n",
       "      <td>Randy Houser is a man refreshed. “I don’t know...</td>\n",
       "      <td>47.866410</td>\n",
       "      <td>-121.989027</td>\n",
       "      <td>2203</td>\n",
       "    </tr>\n",
       "    <tr>\n",
       "      <th>3721</th>\n",
       "      <td>marymoor park Redmond WA United States</td>\n",
       "      <td>marymoor park</td>\n",
       "      <td>United States</td>\n",
       "      <td>WA</td>\n",
       "      <td>Redmond</td>\n",
       "      <td>Alternative, Alternative Rock, Folk, Tropical,...</td>\n",
       "      <td>Heralded as one of the biggest independent roc...</td>\n",
       "      <td>47.666683</td>\n",
       "      <td>-122.114886</td>\n",
       "      <td>4170</td>\n",
       "    </tr>\n",
       "    <tr>\n",
       "      <th>3796</th>\n",
       "      <td>mctuff syncopated taint horns Seattle WA Unite...</td>\n",
       "      <td>mctuff syncopated taint horns</td>\n",
       "      <td>United States</td>\n",
       "      <td>WA</td>\n",
       "      <td>Seattle</td>\n",
       "      <td>Punk, Jazz</td>\n",
       "      <td>Official Skerik music page.</td>\n",
       "      <td>47.660009</td>\n",
       "      <td>-122.342557</td>\n",
       "      <td>4251</td>\n",
       "    </tr>\n",
       "    <tr>\n",
       "      <th>4865</th>\n",
       "      <td>private party Woodinville WA United States</td>\n",
       "      <td>private party</td>\n",
       "      <td>United States</td>\n",
       "      <td>WA</td>\n",
       "      <td>Woodinville</td>\n",
       "      <td>None</td>\n",
       "      <td>None</td>\n",
       "      <td>47.754265</td>\n",
       "      <td>-122.163458</td>\n",
       "      <td>5460</td>\n",
       "    </tr>\n",
       "    <tr>\n",
       "      <th>5399</th>\n",
       "      <td>scott law ross james cosmic twang deadgrass Se...</td>\n",
       "      <td>scott law ross james cosmic twang deadgrass</td>\n",
       "      <td>United States</td>\n",
       "      <td>WA</td>\n",
       "      <td>Seattle</td>\n",
       "      <td>Portland, OR</td>\n",
       "      <td>SCOTT LAWwww.scottlawmusic.comScott Law may ha...</td>\n",
       "      <td>47.652370</td>\n",
       "      <td>-122.353848</td>\n",
       "      <td>6057</td>\n",
       "    </tr>\n",
       "    <tr>\n",
       "      <th>5584</th>\n",
       "      <td>skerik band Seattle WA United States</td>\n",
       "      <td>skerik band</td>\n",
       "      <td>United States</td>\n",
       "      <td>WA</td>\n",
       "      <td>Seattle</td>\n",
       "      <td>Punk, Jazz</td>\n",
       "      <td>Official Skerik music page.</td>\n",
       "      <td>47.660009</td>\n",
       "      <td>-122.342557</td>\n",
       "      <td>6262</td>\n",
       "    </tr>\n",
       "    <tr>\n",
       "      <th>5719</th>\n",
       "      <td>soulfood coffeehouse and fair trade emporium R...</td>\n",
       "      <td>soulfood coffeehouse and fair trade emporium</td>\n",
       "      <td>United States</td>\n",
       "      <td>WA</td>\n",
       "      <td>Redmond</td>\n",
       "      <td>Folk, Alternative, Rock Alternative, Israeli A...</td>\n",
       "      <td>http://tinyurl.com/bmcs7c7 SEATTLE Moody, Mesm...</td>\n",
       "      <td>47.674122</td>\n",
       "      <td>-122.120586</td>\n",
       "      <td>6415</td>\n",
       "    </tr>\n",
       "    <tr>\n",
       "      <th>6065</th>\n",
       "      <td>taste edmonds Edmonds WA United States</td>\n",
       "      <td>taste edmonds</td>\n",
       "      <td>United States</td>\n",
       "      <td>WA</td>\n",
       "      <td>Edmonds</td>\n",
       "      <td>Singer, Songwriter Americana, Roots, Rockabilly</td>\n",
       "      <td>Indie Americana Alt-Country Pop Soul The Dusty...</td>\n",
       "      <td>47.810743</td>\n",
       "      <td>-122.376733</td>\n",
       "      <td>6812</td>\n",
       "    </tr>\n",
       "    <tr>\n",
       "      <th>6117</th>\n",
       "      <td>theater Everett WA United States</td>\n",
       "      <td>theater</td>\n",
       "      <td>United States</td>\n",
       "      <td>WA</td>\n",
       "      <td>Everett</td>\n",
       "      <td>80s Heavy Metal Various</td>\n",
       "      <td>Second Sting - The Ultimate Scorpions Tribute ...</td>\n",
       "      <td>47.979106</td>\n",
       "      <td>-122.201249</td>\n",
       "      <td>6884</td>\n",
       "    </tr>\n",
       "    <tr>\n",
       "      <th>6310</th>\n",
       "      <td>tuallip casino Marysville WA United States</td>\n",
       "      <td>tuallip casino</td>\n",
       "      <td>United States</td>\n",
       "      <td>WA</td>\n",
       "      <td>Marysville</td>\n",
       "      <td>Hard Rock Blues</td>\n",
       "      <td>No Quarter recreates the British Supergroup's ...</td>\n",
       "      <td>48.071509</td>\n",
       "      <td>-122.180788</td>\n",
       "      <td>7099</td>\n",
       "    </tr>\n",
       "    <tr>\n",
       "      <th>6312</th>\n",
       "      <td>tulalip ampitheater Marysville WA United States</td>\n",
       "      <td>tulalip ampitheater</td>\n",
       "      <td>United States</td>\n",
       "      <td>WA</td>\n",
       "      <td>Marysville</td>\n",
       "      <td>Rock Country, Rock, Country Rock Rock 80s Heav...</td>\n",
       "      <td>Tommy Shaw, James “JY” Young, Lawrence Gowan, ...</td>\n",
       "      <td>48.083211</td>\n",
       "      <td>-122.184010</td>\n",
       "      <td>7101</td>\n",
       "    </tr>\n",
       "  </tbody>\n",
       "</table>\n",
       "</div>"
      ],
      "text/plain": [
       "                                         venueidentifer  \\\n",
       "280       angel of winds arena Everett WA United States   \n",
       "529   beach rock music sports Suquamish WA United St...   \n",
       "1132  chateau ste michelle w steve miller band Woodi...   \n",
       "1133  chateau ste michelle winery Woodinville WA Uni...   \n",
       "1161           chomp Southeast Redmond WA United States   \n",
       "1333                conway muse Conway WA United States   \n",
       "1561  deify and emperidol special guests lucas tayne...   \n",
       "1797   edmonds center for arts Edmonds WA United States   \n",
       "1948           everett theatre Everett WA United States   \n",
       "1956  evergreen state fairgrounds Monroe WA United S...   \n",
       "3721             marymoor park Redmond WA United States   \n",
       "3796  mctuff syncopated taint horns Seattle WA Unite...   \n",
       "4865         private party Woodinville WA United States   \n",
       "5399  scott law ross james cosmic twang deadgrass Se...   \n",
       "5584               skerik band Seattle WA United States   \n",
       "5719  soulfood coffeehouse and fair trade emporium R...   \n",
       "6065             taste edmonds Edmonds WA United States   \n",
       "6117                   theater Everett WA United States   \n",
       "6310         tuallip casino Marysville WA United States   \n",
       "6312    tulalip ampitheater Marysville WA United States   \n",
       "\n",
       "                                             venue_name        country region  \\\n",
       "280                                angel of winds arena  United States     WA   \n",
       "529                             beach rock music sports  United States     WA   \n",
       "1132           chateau ste michelle w steve miller band  United States     WA   \n",
       "1133                        chateau ste michelle winery  United States     WA   \n",
       "1161                                              chomp  United States     WA   \n",
       "1333                                        conway muse  United States     WA   \n",
       "1561  deify and emperidol special guests lucas tayne...  United States     WA   \n",
       "1797                            edmonds center for arts  United States     WA   \n",
       "1948                                    everett theatre  United States     WA   \n",
       "1956                        evergreen state fairgrounds  United States     WA   \n",
       "3721                                      marymoor park  United States     WA   \n",
       "3796                      mctuff syncopated taint horns  United States     WA   \n",
       "4865                                      private party  United States     WA   \n",
       "5399        scott law ross james cosmic twang deadgrass  United States     WA   \n",
       "5584                                        skerik band  United States     WA   \n",
       "5719       soulfood coffeehouse and fair trade emporium  United States     WA   \n",
       "6065                                      taste edmonds  United States     WA   \n",
       "6117                                            theater  United States     WA   \n",
       "6310                                     tuallip casino  United States     WA   \n",
       "6312                                tulalip ampitheater  United States     WA   \n",
       "\n",
       "                   city                                        venue_genre  \\\n",
       "280             Everett  Shock Rock, Rock, Rock N Roll Rock Hard Rock R...   \n",
       "529           Suquamish    Alternative, Rock, Grunge Hip-hop, Rap, Hip Hop   \n",
       "1132        Woodinville  Rock, Classic Rock, Guitar Rock, Classic Rock,...   \n",
       "1133        Woodinville  Blues, Folk, Folk Rock, Alternative Blues Rock...   \n",
       "1161  Southeast Redmond                                         Punk, Jazz   \n",
       "1333             Conway  Americana, Soul, Rock Guitar Virtuoso, Acousti...   \n",
       "1561            Seattle                                         Rockn Roll   \n",
       "1797            Edmonds  Contemporary Soul World Music Folk, R&b/soul, ...   \n",
       "1948            Everett  Folk All Styles Of Music   Rock, Pop  R&b/soul...   \n",
       "1956             Monroe                                            Country   \n",
       "3721            Redmond  Alternative, Alternative Rock, Folk, Tropical,...   \n",
       "3796            Seattle                                         Punk, Jazz   \n",
       "4865        Woodinville                                               None   \n",
       "5399            Seattle                                       Portland, OR   \n",
       "5584            Seattle                                         Punk, Jazz   \n",
       "5719            Redmond  Folk, Alternative, Rock Alternative, Israeli A...   \n",
       "6065            Edmonds    Singer, Songwriter Americana, Roots, Rockabilly   \n",
       "6117            Everett                            80s Heavy Metal Various   \n",
       "6310         Marysville                                    Hard Rock Blues   \n",
       "6312         Marysville  Rock Country, Rock, Country Rock Rock 80s Heav...   \n",
       "\n",
       "                                              venue_bio   latitude  \\\n",
       "280   In 1975, Alice Cooper joined forces with longt...  47.978900   \n",
       "529                                                      47.731389   \n",
       "1132  Grammy winner Peter Frampton remains one of th...  47.728770   \n",
       "1133  BEN HARPER & CHARLIE MUSSELWHITE BIOThere’s a ...  47.733422   \n",
       "1161                        Official Skerik music page.  47.660908   \n",
       "1333  Done:Aussie soul slinger Kara’s Grainger is kn...  48.340627   \n",
       "1561  Deify is a rock band based in Seattle, WA comp...  47.668360   \n",
       "1797  Easy come, easy go; was the lesson two-time Em...  47.810785   \n",
       "1948   Singer, songwriter, producer and multi-instru...  47.986684   \n",
       "1956  Randy Houser is a man refreshed. “I don’t know...  47.866410   \n",
       "3721  Heralded as one of the biggest independent roc...  47.666683   \n",
       "3796                        Official Skerik music page.  47.660009   \n",
       "4865                                               None  47.754265   \n",
       "5399  SCOTT LAWwww.scottlawmusic.comScott Law may ha...  47.652370   \n",
       "5584                        Official Skerik music page.  47.660009   \n",
       "5719  http://tinyurl.com/bmcs7c7 SEATTLE Moody, Mesm...  47.674122   \n",
       "6065  Indie Americana Alt-Country Pop Soul The Dusty...  47.810743   \n",
       "6117  Second Sting - The Ultimate Scorpions Tribute ...  47.979106   \n",
       "6310  No Quarter recreates the British Supergroup's ...  48.071509   \n",
       "6312  Tommy Shaw, James “JY” Young, Lawrence Gowan, ...  48.083211   \n",
       "\n",
       "       longitude  venue_id  \n",
       "280  -122.201858       322  \n",
       "529  -122.551111       598  \n",
       "1132 -122.150003      1275  \n",
       "1133 -122.152337      1276  \n",
       "1161 -122.119648      1307  \n",
       "1333 -122.343623      1514  \n",
       "1561 -122.376958      1771  \n",
       "1797 -122.375613      2026  \n",
       "1948 -122.201080      2195  \n",
       "1956 -121.989027      2203  \n",
       "3721 -122.114886      4170  \n",
       "3796 -122.342557      4251  \n",
       "4865 -122.163458      5460  \n",
       "5399 -122.353848      6057  \n",
       "5584 -122.342557      6262  \n",
       "5719 -122.120586      6415  \n",
       "6065 -122.376733      6812  \n",
       "6117 -122.201249      6884  \n",
       "6310 -122.180788      7099  \n",
       "6312 -122.184010      7101  "
      ]
     },
     "execution_count": 409,
     "metadata": {},
     "output_type": "execute_result"
    }
   ],
   "source": [
    "train_venues[train_venues['venue_id'].isin(top_pridictions)]"
   ]
  },
  {
   "cell_type": "code",
   "execution_count": null,
   "metadata": {},
   "outputs": [],
   "source": []
  }
 ],
 "metadata": {
  "kernelspec": {
   "display_name": "Python 3",
   "language": "python",
   "name": "python3"
  },
  "language_info": {
   "codemirror_mode": {
    "name": "ipython",
    "version": 3
   },
   "file_extension": ".py",
   "mimetype": "text/x-python",
   "name": "python",
   "nbconvert_exporter": "python",
   "pygments_lexer": "ipython3",
   "version": "3.6.5"
  }
 },
 "nbformat": 4,
 "nbformat_minor": 2
}
