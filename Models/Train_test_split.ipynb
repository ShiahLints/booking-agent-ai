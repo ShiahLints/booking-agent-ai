{
 "cells": [
  {
   "cell_type": "code",
   "execution_count": 1,
   "metadata": {},
   "outputs": [
    {
     "ename": "ModuleNotFoundError",
     "evalue": "No module named 'generate_tables'",
     "output_type": "error",
     "traceback": [
      "\u001b[0;31m---------------------------------------------------------------------------\u001b[0m",
      "\u001b[0;31mModuleNotFoundError\u001b[0m                       Traceback (most recent call last)",
      "\u001b[0;32m<ipython-input-1-57896f26dd17>\u001b[0m in \u001b[0;36m<module>\u001b[0;34m()\u001b[0m\n\u001b[1;32m      3\u001b[0m \u001b[0;32mimport\u001b[0m \u001b[0mpandas\u001b[0m \u001b[0;32mas\u001b[0m \u001b[0mpd\u001b[0m\u001b[0;34m\u001b[0m\u001b[0m\n\u001b[1;32m      4\u001b[0m \u001b[0;32mimport\u001b[0m \u001b[0mnumpy\u001b[0m \u001b[0;32mas\u001b[0m \u001b[0mnp\u001b[0m\u001b[0;34m\u001b[0m\u001b[0m\n\u001b[0;32m----> 5\u001b[0;31m \u001b[0;32mimport\u001b[0m \u001b[0mgenerate_tables\u001b[0m \u001b[0;32mas\u001b[0m \u001b[0mgt\u001b[0m\u001b[0;34m\u001b[0m\u001b[0m\n\u001b[0m",
      "\u001b[0;31mModuleNotFoundError\u001b[0m: No module named 'generate_tables'"
     ]
    }
   ],
   "source": [
    "%load_ext autoreload\n",
    "%autoreload 2\n",
    "import pandas as pd\n",
    "import numpy as np\n",
    "import generate_tables as gt"
   ]
  },
  {
   "cell_type": "code",
   "execution_count": 35,
   "metadata": {},
   "outputs": [],
   "source": [
    "events_raw = pd.read_csv('../data/master_events_raw.csv')"
   ]
  },
  {
   "cell_type": "code",
   "execution_count": 36,
   "metadata": {},
   "outputs": [],
   "source": [
    "master_venues = pd.read_csv('../data/master_venues.csv')"
   ]
  },
  {
   "cell_type": "code",
   "execution_count": 37,
   "metadata": {},
   "outputs": [],
   "source": [
    "events_sorted = events_raw.sort_values(by = ['datetime'])"
   ]
  },
  {
   "cell_type": "code",
   "execution_count": 43,
   "metadata": {},
   "outputs": [],
   "source": [
    "split = int(len(events_sorted)*.8)"
   ]
  },
  {
   "cell_type": "code",
   "execution_count": 44,
   "metadata": {},
   "outputs": [],
   "source": [
    "train_events_raw = events_sorted[0:split]"
   ]
  },
  {
   "cell_type": "code",
   "execution_count": 45,
   "metadata": {},
   "outputs": [],
   "source": [
    "test_events_raw = events_sorted[split+1:]"
   ]
  },
  {
   "cell_type": "code",
   "execution_count": 46,
   "metadata": {},
   "outputs": [],
   "source": [
    "train_events_raw.to_csv('train_events_raw.csv')"
   ]
  },
  {
   "cell_type": "code",
   "execution_count": 47,
   "metadata": {},
   "outputs": [],
   "source": [
    "test_events_raw.to_csv('test_events_raw.csv')"
   ]
  },
  {
   "cell_type": "code",
   "execution_count": 17,
   "metadata": {},
   "outputs": [
    {
     "name": "stderr",
     "output_type": "stream",
     "text": [
      "/Users/shiahlints/anaconda3/lib/python3.6/site-packages/pandas/core/generic.py:5430: SettingWithCopyWarning: \n",
      "A value is trying to be set on a copy of a slice from a DataFrame\n",
      "\n",
      "See the caveats in the documentation: http://pandas.pydata.org/pandas-docs/stable/indexing.html#indexing-view-versus-copy\n",
      "  self._update_inplace(new_data)\n"
     ]
    }
   ],
   "source": [
    "train_venues = gt.make_venue_df(train_events_raw)"
   ]
  },
  {
   "cell_type": "code",
   "execution_count": 18,
   "metadata": {},
   "outputs": [
    {
     "data": {
      "text/html": [
       "<div>\n",
       "<style scoped>\n",
       "    .dataframe tbody tr th:only-of-type {\n",
       "        vertical-align: middle;\n",
       "    }\n",
       "\n",
       "    .dataframe tbody tr th {\n",
       "        vertical-align: top;\n",
       "    }\n",
       "\n",
       "    .dataframe thead th {\n",
       "        text-align: right;\n",
       "    }\n",
       "</style>\n",
       "<table border=\"1\" class=\"dataframe\">\n",
       "  <thead>\n",
       "    <tr style=\"text-align: right;\">\n",
       "      <th></th>\n",
       "      <th>venueidentifer</th>\n",
       "      <th>venue_name</th>\n",
       "      <th>country</th>\n",
       "      <th>region</th>\n",
       "      <th>city</th>\n",
       "      <th>venue_genre</th>\n",
       "      <th>venue_bio</th>\n",
       "      <th>latitude</th>\n",
       "      <th>longitude</th>\n",
       "      <th>venue_id</th>\n",
       "    </tr>\n",
       "  </thead>\n",
       "  <tbody>\n",
       "    <tr>\n",
       "      <th>0</th>\n",
       "      <td>0823 juice bladerunner uk kasper mn flaco sf d...</td>\n",
       "      <td>0823 juice bladerunner uk kasper mn flaco sf d...</td>\n",
       "      <td>United States</td>\n",
       "      <td>OR</td>\n",
       "      <td>Portland</td>\n",
       "      <td>Portland, OR</td>\n",
       "      <td>Dedicated exclusively to the deep soulful soun...</td>\n",
       "      <td>45.526697</td>\n",
       "      <td>-122.688050</td>\n",
       "      <td>0</td>\n",
       "    </tr>\n",
       "    <tr>\n",
       "      <th>1</th>\n",
       "      <td>1 oak Los Angeles CA United States</td>\n",
       "      <td>1 oak</td>\n",
       "      <td>United States</td>\n",
       "      <td>CA</td>\n",
       "      <td>Los Angeles</td>\n",
       "      <td></td>\n",
       "      <td>DJ Tay James has been making a name for himsel...</td>\n",
       "      <td>34.052234</td>\n",
       "      <td>-118.243685</td>\n",
       "      <td>1</td>\n",
       "    </tr>\n",
       "    <tr>\n",
       "      <th>2</th>\n",
       "      <td>1007 wolf throwdown 2018 Seattle WA United States</td>\n",
       "      <td>1007 wolf throwdown 2018</td>\n",
       "      <td>United States</td>\n",
       "      <td>WA</td>\n",
       "      <td>Seattle</td>\n",
       "      <td>Country</td>\n",
       "      <td>GRAMMY-nominated artist and songwriter of the ...</td>\n",
       "      <td>47.606209</td>\n",
       "      <td>-122.332071</td>\n",
       "      <td>2</td>\n",
       "    </tr>\n",
       "    <tr>\n",
       "      <th>3</th>\n",
       "      <td>1007 wolf throwdown Enumclaw WA United States</td>\n",
       "      <td>1007 wolf throwdown</td>\n",
       "      <td>United States</td>\n",
       "      <td>WA</td>\n",
       "      <td>Enumclaw</td>\n",
       "      <td>Country, Country Music Country Americana Country</td>\n",
       "      <td>Even before signing his record deal in early 2...</td>\n",
       "      <td>47.204386</td>\n",
       "      <td>-121.990685</td>\n",
       "      <td>3</td>\n",
       "    </tr>\n",
       "    <tr>\n",
       "      <th>4</th>\n",
       "      <td>1015 folsom San Francisco CA United States</td>\n",
       "      <td>1015 folsom</td>\n",
       "      <td>United States</td>\n",
       "      <td>CA</td>\n",
       "      <td>San Francisco</td>\n",
       "      <td>San Francisco, CA  Alex Scarlett &amp; Ali Jafari ...</td>\n",
       "      <td>bass so thick you can't get a comb through it....</td>\n",
       "      <td>37.777476</td>\n",
       "      <td>-122.408221</td>\n",
       "      <td>4</td>\n",
       "    </tr>\n",
       "  </tbody>\n",
       "</table>\n",
       "</div>"
      ],
      "text/plain": [
       "                                      venueidentifer  \\\n",
       "0  0823 juice bladerunner uk kasper mn flaco sf d...   \n",
       "1                 1 oak Los Angeles CA United States   \n",
       "2  1007 wolf throwdown 2018 Seattle WA United States   \n",
       "3      1007 wolf throwdown Enumclaw WA United States   \n",
       "4         1015 folsom San Francisco CA United States   \n",
       "\n",
       "                                          venue_name        country region  \\\n",
       "0  0823 juice bladerunner uk kasper mn flaco sf d...  United States     OR   \n",
       "1                                              1 oak  United States     CA   \n",
       "2                           1007 wolf throwdown 2018  United States     WA   \n",
       "3                                1007 wolf throwdown  United States     WA   \n",
       "4                                        1015 folsom  United States     CA   \n",
       "\n",
       "            city                                        venue_genre  \\\n",
       "0       Portland                                       Portland, OR   \n",
       "1    Los Angeles                                                      \n",
       "2        Seattle                                            Country   \n",
       "3       Enumclaw   Country, Country Music Country Americana Country   \n",
       "4  San Francisco  San Francisco, CA  Alex Scarlett & Ali Jafari ...   \n",
       "\n",
       "                                           venue_bio   latitude   longitude  \\\n",
       "0  Dedicated exclusively to the deep soulful soun...  45.526697 -122.688050   \n",
       "1  DJ Tay James has been making a name for himsel...  34.052234 -118.243685   \n",
       "2  GRAMMY-nominated artist and songwriter of the ...  47.606209 -122.332071   \n",
       "3  Even before signing his record deal in early 2...  47.204386 -121.990685   \n",
       "4  bass so thick you can't get a comb through it....  37.777476 -122.408221   \n",
       "\n",
       "   venue_id  \n",
       "0         0  \n",
       "1         1  \n",
       "2         2  \n",
       "3         3  \n",
       "4         4  "
      ]
     },
     "execution_count": 18,
     "metadata": {},
     "output_type": "execute_result"
    }
   ],
   "source": [
    "train_venues.head(5)"
   ]
  },
  {
   "cell_type": "markdown",
   "metadata": {},
   "source": [
    "reset the venue ids so the match with the data and reset the lat lon"
   ]
  },
  {
   "cell_type": "code",
   "execution_count": null,
   "metadata": {},
   "outputs": [],
   "source": []
  },
  {
   "cell_type": "code",
   "execution_count": 19,
   "metadata": {},
   "outputs": [],
   "source": [
    "id_to_name, name_to_id = gt.make_conversion_dictionarys(master_venues)"
   ]
  },
  {
   "cell_type": "code",
   "execution_count": 20,
   "metadata": {},
   "outputs": [],
   "source": [
    "def make_id_to_lat_lng(master_venues):\n",
    "    id_to_lat = dict(zip(master_venues.venue_id,master_venues.latitude))\n",
    "    id_to_lng = dict(zip(master_venues.venue_id,master_venues.longitude))\n",
    "    #print(name_to_id)\n",
    "    return id_to_lat, id_to_lng"
   ]
  },
  {
   "cell_type": "code",
   "execution_count": 21,
   "metadata": {},
   "outputs": [],
   "source": [
    "def fix_lat_lng(dataframe, id_to_lat, id_to_lng):\n",
    "    df = dataframe.copy()\n",
    "    df['latitude'] = (df.venue_id).map(id_to_lat)\n",
    "    df['longitude'] = (df.venue_id).map(id_to_lng)\n",
    "    return df"
   ]
  },
  {
   "cell_type": "code",
   "execution_count": null,
   "metadata": {},
   "outputs": [],
   "source": []
  },
  {
   "cell_type": "code",
   "execution_count": 22,
   "metadata": {},
   "outputs": [],
   "source": [
    "id_to_lat, id_to_lng = make_id_to_lat_lng(master_venues)"
   ]
  },
  {
   "cell_type": "code",
   "execution_count": 23,
   "metadata": {},
   "outputs": [],
   "source": [
    "id_to_name, name_to_id = gt.make_conversion_dictionarys(master_venues)"
   ]
  },
  {
   "cell_type": "code",
   "execution_count": 24,
   "metadata": {},
   "outputs": [
    {
     "data": {
      "text/html": [
       "<div>\n",
       "<style scoped>\n",
       "    .dataframe tbody tr th:only-of-type {\n",
       "        vertical-align: middle;\n",
       "    }\n",
       "\n",
       "    .dataframe tbody tr th {\n",
       "        vertical-align: top;\n",
       "    }\n",
       "\n",
       "    .dataframe thead th {\n",
       "        text-align: right;\n",
       "    }\n",
       "</style>\n",
       "<table border=\"1\" class=\"dataframe\">\n",
       "  <thead>\n",
       "    <tr style=\"text-align: right;\">\n",
       "      <th></th>\n",
       "      <th>venueidentifer</th>\n",
       "      <th>venue_name</th>\n",
       "      <th>country</th>\n",
       "      <th>region</th>\n",
       "      <th>city</th>\n",
       "      <th>venue_genre</th>\n",
       "      <th>venue_bio</th>\n",
       "      <th>latitude</th>\n",
       "      <th>longitude</th>\n",
       "      <th>venue_id</th>\n",
       "    </tr>\n",
       "  </thead>\n",
       "  <tbody>\n",
       "    <tr>\n",
       "      <th>0</th>\n",
       "      <td>0823 juice bladerunner uk kasper mn flaco sf d...</td>\n",
       "      <td>0823 juice bladerunner uk kasper mn flaco sf d...</td>\n",
       "      <td>United States</td>\n",
       "      <td>OR</td>\n",
       "      <td>Portland</td>\n",
       "      <td>Portland, OR</td>\n",
       "      <td>Dedicated exclusively to the deep soulful soun...</td>\n",
       "      <td>45.526697</td>\n",
       "      <td>-122.688050</td>\n",
       "      <td>0</td>\n",
       "    </tr>\n",
       "    <tr>\n",
       "      <th>1</th>\n",
       "      <td>1 oak Los Angeles CA United States</td>\n",
       "      <td>1 oak</td>\n",
       "      <td>United States</td>\n",
       "      <td>CA</td>\n",
       "      <td>Los Angeles</td>\n",
       "      <td></td>\n",
       "      <td>DJ Tay James has been making a name for himsel...</td>\n",
       "      <td>34.052234</td>\n",
       "      <td>-118.243685</td>\n",
       "      <td>1</td>\n",
       "    </tr>\n",
       "    <tr>\n",
       "      <th>2</th>\n",
       "      <td>1007 wolf throwdown 2018 Seattle WA United States</td>\n",
       "      <td>1007 wolf throwdown 2018</td>\n",
       "      <td>United States</td>\n",
       "      <td>WA</td>\n",
       "      <td>Seattle</td>\n",
       "      <td>Country</td>\n",
       "      <td>GRAMMY-nominated artist and songwriter of the ...</td>\n",
       "      <td>47.606209</td>\n",
       "      <td>-122.332071</td>\n",
       "      <td>2</td>\n",
       "    </tr>\n",
       "    <tr>\n",
       "      <th>3</th>\n",
       "      <td>1007 wolf throwdown Enumclaw WA United States</td>\n",
       "      <td>1007 wolf throwdown</td>\n",
       "      <td>United States</td>\n",
       "      <td>WA</td>\n",
       "      <td>Enumclaw</td>\n",
       "      <td>Country, Country Music Country Americana Country</td>\n",
       "      <td>Even before signing his record deal in early 2...</td>\n",
       "      <td>47.204386</td>\n",
       "      <td>-121.990685</td>\n",
       "      <td>3</td>\n",
       "    </tr>\n",
       "    <tr>\n",
       "      <th>4</th>\n",
       "      <td>1015 folsom San Francisco CA United States</td>\n",
       "      <td>1015 folsom</td>\n",
       "      <td>United States</td>\n",
       "      <td>CA</td>\n",
       "      <td>San Francisco</td>\n",
       "      <td>San Francisco, CA  Alex Scarlett &amp; Ali Jafari ...</td>\n",
       "      <td>bass so thick you can't get a comb through it....</td>\n",
       "      <td>37.777476</td>\n",
       "      <td>-122.408221</td>\n",
       "      <td>4</td>\n",
       "    </tr>\n",
       "  </tbody>\n",
       "</table>\n",
       "</div>"
      ],
      "text/plain": [
       "                                      venueidentifer  \\\n",
       "0  0823 juice bladerunner uk kasper mn flaco sf d...   \n",
       "1                 1 oak Los Angeles CA United States   \n",
       "2  1007 wolf throwdown 2018 Seattle WA United States   \n",
       "3      1007 wolf throwdown Enumclaw WA United States   \n",
       "4         1015 folsom San Francisco CA United States   \n",
       "\n",
       "                                          venue_name        country region  \\\n",
       "0  0823 juice bladerunner uk kasper mn flaco sf d...  United States     OR   \n",
       "1                                              1 oak  United States     CA   \n",
       "2                           1007 wolf throwdown 2018  United States     WA   \n",
       "3                                1007 wolf throwdown  United States     WA   \n",
       "4                                        1015 folsom  United States     CA   \n",
       "\n",
       "            city                                        venue_genre  \\\n",
       "0       Portland                                       Portland, OR   \n",
       "1    Los Angeles                                                      \n",
       "2        Seattle                                            Country   \n",
       "3       Enumclaw   Country, Country Music Country Americana Country   \n",
       "4  San Francisco  San Francisco, CA  Alex Scarlett & Ali Jafari ...   \n",
       "\n",
       "                                           venue_bio   latitude   longitude  \\\n",
       "0  Dedicated exclusively to the deep soulful soun...  45.526697 -122.688050   \n",
       "1  DJ Tay James has been making a name for himsel...  34.052234 -118.243685   \n",
       "2  GRAMMY-nominated artist and songwriter of the ...  47.606209 -122.332071   \n",
       "3  Even before signing his record deal in early 2...  47.204386 -121.990685   \n",
       "4  bass so thick you can't get a comb through it....  37.777476 -122.408221   \n",
       "\n",
       "   venue_id  \n",
       "0         0  \n",
       "1         1  \n",
       "2         2  \n",
       "3         3  \n",
       "4         4  "
      ]
     },
     "execution_count": 24,
     "metadata": {},
     "output_type": "execute_result"
    }
   ],
   "source": [
    "train_venues.head(5)"
   ]
  },
  {
   "cell_type": "code",
   "execution_count": 25,
   "metadata": {},
   "outputs": [],
   "source": [
    "train_venues['venue_id'] = (train_venues.venueidentifer).map(name_to_id)"
   ]
  },
  {
   "cell_type": "code",
   "execution_count": 26,
   "metadata": {},
   "outputs": [
    {
     "data": {
      "text/html": [
       "<div>\n",
       "<style scoped>\n",
       "    .dataframe tbody tr th:only-of-type {\n",
       "        vertical-align: middle;\n",
       "    }\n",
       "\n",
       "    .dataframe tbody tr th {\n",
       "        vertical-align: top;\n",
       "    }\n",
       "\n",
       "    .dataframe thead th {\n",
       "        text-align: right;\n",
       "    }\n",
       "</style>\n",
       "<table border=\"1\" class=\"dataframe\">\n",
       "  <thead>\n",
       "    <tr style=\"text-align: right;\">\n",
       "      <th></th>\n",
       "      <th>venueidentifer</th>\n",
       "      <th>venue_name</th>\n",
       "      <th>country</th>\n",
       "      <th>region</th>\n",
       "      <th>city</th>\n",
       "      <th>venue_genre</th>\n",
       "      <th>venue_bio</th>\n",
       "      <th>latitude</th>\n",
       "      <th>longitude</th>\n",
       "      <th>venue_id</th>\n",
       "    </tr>\n",
       "  </thead>\n",
       "  <tbody>\n",
       "    <tr>\n",
       "      <th>0</th>\n",
       "      <td>0823 juice bladerunner uk kasper mn flaco sf d...</td>\n",
       "      <td>0823 juice bladerunner uk kasper mn flaco sf d...</td>\n",
       "      <td>United States</td>\n",
       "      <td>OR</td>\n",
       "      <td>Portland</td>\n",
       "      <td>Portland, OR</td>\n",
       "      <td>Dedicated exclusively to the deep soulful soun...</td>\n",
       "      <td>45.526697</td>\n",
       "      <td>-122.688050</td>\n",
       "      <td>0</td>\n",
       "    </tr>\n",
       "    <tr>\n",
       "      <th>1</th>\n",
       "      <td>1 oak Los Angeles CA United States</td>\n",
       "      <td>1 oak</td>\n",
       "      <td>United States</td>\n",
       "      <td>CA</td>\n",
       "      <td>Los Angeles</td>\n",
       "      <td></td>\n",
       "      <td>DJ Tay James has been making a name for himsel...</td>\n",
       "      <td>34.052234</td>\n",
       "      <td>-118.243685</td>\n",
       "      <td>1</td>\n",
       "    </tr>\n",
       "    <tr>\n",
       "      <th>2</th>\n",
       "      <td>1007 wolf throwdown 2018 Seattle WA United States</td>\n",
       "      <td>1007 wolf throwdown 2018</td>\n",
       "      <td>United States</td>\n",
       "      <td>WA</td>\n",
       "      <td>Seattle</td>\n",
       "      <td>Country</td>\n",
       "      <td>GRAMMY-nominated artist and songwriter of the ...</td>\n",
       "      <td>47.606209</td>\n",
       "      <td>-122.332071</td>\n",
       "      <td>3</td>\n",
       "    </tr>\n",
       "    <tr>\n",
       "      <th>3</th>\n",
       "      <td>1007 wolf throwdown Enumclaw WA United States</td>\n",
       "      <td>1007 wolf throwdown</td>\n",
       "      <td>United States</td>\n",
       "      <td>WA</td>\n",
       "      <td>Enumclaw</td>\n",
       "      <td>Country, Country Music Country Americana Country</td>\n",
       "      <td>Even before signing his record deal in early 2...</td>\n",
       "      <td>47.204386</td>\n",
       "      <td>-121.990685</td>\n",
       "      <td>4</td>\n",
       "    </tr>\n",
       "    <tr>\n",
       "      <th>4</th>\n",
       "      <td>1015 folsom San Francisco CA United States</td>\n",
       "      <td>1015 folsom</td>\n",
       "      <td>United States</td>\n",
       "      <td>CA</td>\n",
       "      <td>San Francisco</td>\n",
       "      <td>San Francisco, CA  Alex Scarlett &amp; Ali Jafari ...</td>\n",
       "      <td>bass so thick you can't get a comb through it....</td>\n",
       "      <td>37.777476</td>\n",
       "      <td>-122.408221</td>\n",
       "      <td>6</td>\n",
       "    </tr>\n",
       "  </tbody>\n",
       "</table>\n",
       "</div>"
      ],
      "text/plain": [
       "                                      venueidentifer  \\\n",
       "0  0823 juice bladerunner uk kasper mn flaco sf d...   \n",
       "1                 1 oak Los Angeles CA United States   \n",
       "2  1007 wolf throwdown 2018 Seattle WA United States   \n",
       "3      1007 wolf throwdown Enumclaw WA United States   \n",
       "4         1015 folsom San Francisco CA United States   \n",
       "\n",
       "                                          venue_name        country region  \\\n",
       "0  0823 juice bladerunner uk kasper mn flaco sf d...  United States     OR   \n",
       "1                                              1 oak  United States     CA   \n",
       "2                           1007 wolf throwdown 2018  United States     WA   \n",
       "3                                1007 wolf throwdown  United States     WA   \n",
       "4                                        1015 folsom  United States     CA   \n",
       "\n",
       "            city                                        venue_genre  \\\n",
       "0       Portland                                       Portland, OR   \n",
       "1    Los Angeles                                                      \n",
       "2        Seattle                                            Country   \n",
       "3       Enumclaw   Country, Country Music Country Americana Country   \n",
       "4  San Francisco  San Francisco, CA  Alex Scarlett & Ali Jafari ...   \n",
       "\n",
       "                                           venue_bio   latitude   longitude  \\\n",
       "0  Dedicated exclusively to the deep soulful soun...  45.526697 -122.688050   \n",
       "1  DJ Tay James has been making a name for himsel...  34.052234 -118.243685   \n",
       "2  GRAMMY-nominated artist and songwriter of the ...  47.606209 -122.332071   \n",
       "3  Even before signing his record deal in early 2...  47.204386 -121.990685   \n",
       "4  bass so thick you can't get a comb through it....  37.777476 -122.408221   \n",
       "\n",
       "   venue_id  \n",
       "0         0  \n",
       "1         1  \n",
       "2         3  \n",
       "3         4  \n",
       "4         6  "
      ]
     },
     "execution_count": 26,
     "metadata": {},
     "output_type": "execute_result"
    }
   ],
   "source": [
    "train_venues.head(5)"
   ]
  },
  {
   "cell_type": "code",
   "execution_count": 27,
   "metadata": {},
   "outputs": [
    {
     "name": "stdout",
     "output_type": "stream",
     "text": [
      "<class 'pandas.core.frame.DataFrame'>\n",
      "RangeIndex: 6182 entries, 0 to 6181\n",
      "Data columns (total 10 columns):\n",
      "venueidentifer    6182 non-null object\n",
      "venue_name        6182 non-null object\n",
      "country           6182 non-null object\n",
      "region            6182 non-null object\n",
      "city              6182 non-null object\n",
      "venue_genre       5716 non-null object\n",
      "venue_bio         5718 non-null object\n",
      "latitude          6142 non-null float64\n",
      "longitude         6142 non-null float64\n",
      "venue_id          6182 non-null int64\n",
      "dtypes: float64(2), int64(1), object(7)\n",
      "memory usage: 483.0+ KB\n"
     ]
    }
   ],
   "source": [
    "train_venues.info()"
   ]
  },
  {
   "cell_type": "code",
   "execution_count": 28,
   "metadata": {},
   "outputs": [],
   "source": [
    "train_venues = fix_lat_lng(train_venues, id_to_lat, id_to_lng)"
   ]
  },
  {
   "cell_type": "code",
   "execution_count": 29,
   "metadata": {},
   "outputs": [
    {
     "name": "stdout",
     "output_type": "stream",
     "text": [
      "<class 'pandas.core.frame.DataFrame'>\n",
      "RangeIndex: 6182 entries, 0 to 6181\n",
      "Data columns (total 10 columns):\n",
      "venueidentifer    6182 non-null object\n",
      "venue_name        6182 non-null object\n",
      "country           6182 non-null object\n",
      "region            6182 non-null object\n",
      "city              6182 non-null object\n",
      "venue_genre       5716 non-null object\n",
      "venue_bio         5718 non-null object\n",
      "latitude          6143 non-null float64\n",
      "longitude         6143 non-null float64\n",
      "venue_id          6182 non-null int64\n",
      "dtypes: float64(2), int64(1), object(7)\n",
      "memory usage: 483.0+ KB\n"
     ]
    }
   ],
   "source": [
    "train_venues.info()"
   ]
  },
  {
   "cell_type": "code",
   "execution_count": 30,
   "metadata": {},
   "outputs": [],
   "source": [
    "train_venues.to_csv('train_venues.csv')"
   ]
  },
  {
   "cell_type": "code",
   "execution_count": 31,
   "metadata": {},
   "outputs": [
    {
     "name": "stderr",
     "output_type": "stream",
     "text": [
      "/Users/shiahlints/anaconda3/lib/python3.6/site-packages/ipykernel_launcher.py:1: SettingWithCopyWarning: \n",
      "A value is trying to be set on a copy of a slice from a DataFrame.\n",
      "Try using .loc[row_indexer,col_indexer] = value instead\n",
      "\n",
      "See the caveats in the documentation: http://pandas.pydata.org/pandas-docs/stable/indexing.html#indexing-view-versus-copy\n",
      "  \"\"\"Entry point for launching an IPython kernel.\n"
     ]
    }
   ],
   "source": [
    "train_events_raw['venue_id'] = (train_events_raw.venueidentifer).map(name_to_id)"
   ]
  },
  {
   "cell_type": "code",
   "execution_count": 32,
   "metadata": {},
   "outputs": [],
   "source": [
    "train_events = fix_lat_lng(train_events_raw, id_to_lat, id_to_lng)"
   ]
  },
  {
   "cell_type": "code",
   "execution_count": 33,
   "metadata": {},
   "outputs": [
    {
     "name": "stdout",
     "output_type": "stream",
     "text": [
      "<class 'pandas.core.frame.DataFrame'>\n",
      "Int64Index: 20000 entries, 13253 to 6814\n",
      "Data columns (total 31 columns):\n",
      "Unnamed: 0              20000 non-null int64\n",
      "Unnamed: 0.1            20000 non-null int64\n",
      "_id                     20000 non-null object\n",
      "artist_facebook         11851 non-null object\n",
      "artist_id               20000 non-null int64\n",
      "artist_image            20000 non-null object\n",
      "artist_name             20000 non-null object\n",
      "artist_thumb            20000 non-null object\n",
      "artist_url              20000 non-null object\n",
      "artist_bio              14223 non-null object\n",
      "artist_genre            15462 non-null object\n",
      "home_town               11948 non-null object\n",
      "mbid                    5849 non-null object\n",
      "tracker_count           20000 non-null int64\n",
      "upcoming_event_count    20000 non-null int64\n",
      "offers                  20000 non-null object\n",
      "datetime                20000 non-null object\n",
      "on_sale_datetime        6022 non-null object\n",
      "description             8040 non-null object\n",
      "lineup                  20000 non-null object\n",
      "event_id                20000 non-null int64\n",
      "event_url               20000 non-null object\n",
      "venue_name              20000 non-null object\n",
      "country                 20000 non-null object\n",
      "region                  20000 non-null object\n",
      "city                    20000 non-null object\n",
      "latitude                19949 non-null float64\n",
      "longitude               19949 non-null float64\n",
      "vn_original             20000 non-null object\n",
      "venueidentifer          20000 non-null object\n",
      "venue_id                20000 non-null int64\n",
      "dtypes: float64(2), int64(7), object(22)\n",
      "memory usage: 4.9+ MB\n"
     ]
    }
   ],
   "source": [
    "train_events.info()"
   ]
  },
  {
   "cell_type": "code",
   "execution_count": 28,
   "metadata": {},
   "outputs": [],
   "source": [
    "train_events.to_csv('train_events.csv')"
   ]
  },
  {
   "cell_type": "code",
   "execution_count": 29,
   "metadata": {},
   "outputs": [
    {
     "data": {
      "text/html": [
       "<div>\n",
       "<style scoped>\n",
       "    .dataframe tbody tr th:only-of-type {\n",
       "        vertical-align: middle;\n",
       "    }\n",
       "\n",
       "    .dataframe tbody tr th {\n",
       "        vertical-align: top;\n",
       "    }\n",
       "\n",
       "    .dataframe thead th {\n",
       "        text-align: right;\n",
       "    }\n",
       "</style>\n",
       "<table border=\"1\" class=\"dataframe\">\n",
       "  <thead>\n",
       "    <tr style=\"text-align: right;\">\n",
       "      <th></th>\n",
       "      <th>artist_id</th>\n",
       "      <th>venue_id</th>\n",
       "      <th>event_count</th>\n",
       "    </tr>\n",
       "  </thead>\n",
       "  <tbody>\n",
       "    <tr>\n",
       "      <th>13253</th>\n",
       "      <td>7329142</td>\n",
       "      <td>4966</td>\n",
       "      <td>1</td>\n",
       "    </tr>\n",
       "    <tr>\n",
       "      <th>3342</th>\n",
       "      <td>1633877</td>\n",
       "      <td>1576</td>\n",
       "      <td>1</td>\n",
       "    </tr>\n",
       "    <tr>\n",
       "      <th>8285</th>\n",
       "      <td>37706</td>\n",
       "      <td>210</td>\n",
       "      <td>1</td>\n",
       "    </tr>\n",
       "    <tr>\n",
       "      <th>25596</th>\n",
       "      <td>13941890</td>\n",
       "      <td>5554</td>\n",
       "      <td>1</td>\n",
       "    </tr>\n",
       "    <tr>\n",
       "      <th>29989</th>\n",
       "      <td>12636700</td>\n",
       "      <td>6873</td>\n",
       "      <td>1</td>\n",
       "    </tr>\n",
       "  </tbody>\n",
       "</table>\n",
       "</div>"
      ],
      "text/plain": [
       "       artist_id  venue_id  event_count\n",
       "13253    7329142      4966            1\n",
       "3342     1633877      1576            1\n",
       "8285       37706       210            1\n",
       "25596   13941890      5554            1\n",
       "29989   12636700      6873            1"
      ]
     },
     "execution_count": 29,
     "metadata": {},
     "output_type": "execute_result"
    }
   ],
   "source": [
    "train_events_sparce = train_events[['artist_id','venue_id']].copy()\n",
    "train_events_sparce['event_count'] = 1\n",
    "train_events_sparce.head()"
   ]
  },
  {
   "cell_type": "code",
   "execution_count": 30,
   "metadata": {},
   "outputs": [],
   "source": [
    "train_events_sparce.to_csv('train_events_sparce.csv')"
   ]
  },
  {
   "cell_type": "code",
   "execution_count": 31,
   "metadata": {},
   "outputs": [
    {
     "name": "stderr",
     "output_type": "stream",
     "text": [
      "/Users/shiahlints/anaconda3/lib/python3.6/site-packages/ipykernel_launcher.py:1: SettingWithCopyWarning: \n",
      "A value is trying to be set on a copy of a slice from a DataFrame.\n",
      "Try using .loc[row_indexer,col_indexer] = value instead\n",
      "\n",
      "See the caveats in the documentation: http://pandas.pydata.org/pandas-docs/stable/indexing.html#indexing-view-versus-copy\n",
      "  \"\"\"Entry point for launching an IPython kernel.\n"
     ]
    }
   ],
   "source": [
    "test_events_raw['venue_id'] = (test_events_raw.venueidentifer).map(name_to_id)"
   ]
  },
  {
   "cell_type": "code",
   "execution_count": 32,
   "metadata": {},
   "outputs": [],
   "source": [
    "test_events = fix_lat_lng(test_events_raw, id_to_lat, id_to_lng)"
   ]
  },
  {
   "cell_type": "code",
   "execution_count": 33,
   "metadata": {},
   "outputs": [],
   "source": [
    "test_events.to_csv('test_events.csv')"
   ]
  },
  {
   "cell_type": "code",
   "execution_count": 34,
   "metadata": {},
   "outputs": [
    {
     "data": {
      "text/html": [
       "<div>\n",
       "<style scoped>\n",
       "    .dataframe tbody tr th:only-of-type {\n",
       "        vertical-align: middle;\n",
       "    }\n",
       "\n",
       "    .dataframe tbody tr th {\n",
       "        vertical-align: top;\n",
       "    }\n",
       "\n",
       "    .dataframe thead th {\n",
       "        text-align: right;\n",
       "    }\n",
       "</style>\n",
       "<table border=\"1\" class=\"dataframe\">\n",
       "  <thead>\n",
       "    <tr style=\"text-align: right;\">\n",
       "      <th></th>\n",
       "      <th>artist_id</th>\n",
       "      <th>venue_id</th>\n",
       "      <th>event_count</th>\n",
       "    </tr>\n",
       "  </thead>\n",
       "  <tbody>\n",
       "    <tr>\n",
       "      <th>9758</th>\n",
       "      <td>13071157</td>\n",
       "      <td>4353</td>\n",
       "      <td>1</td>\n",
       "    </tr>\n",
       "    <tr>\n",
       "      <th>24295</th>\n",
       "      <td>10742664</td>\n",
       "      <td>2862</td>\n",
       "      <td>1</td>\n",
       "    </tr>\n",
       "    <tr>\n",
       "      <th>4324</th>\n",
       "      <td>1172173</td>\n",
       "      <td>7236</td>\n",
       "      <td>1</td>\n",
       "    </tr>\n",
       "    <tr>\n",
       "      <th>29164</th>\n",
       "      <td>1737044</td>\n",
       "      <td>3948</td>\n",
       "      <td>1</td>\n",
       "    </tr>\n",
       "    <tr>\n",
       "      <th>2257</th>\n",
       "      <td>224995</td>\n",
       "      <td>2768</td>\n",
       "      <td>1</td>\n",
       "    </tr>\n",
       "  </tbody>\n",
       "</table>\n",
       "</div>"
      ],
      "text/plain": [
       "       artist_id  venue_id  event_count\n",
       "9758    13071157      4353            1\n",
       "24295   10742664      2862            1\n",
       "4324     1172173      7236            1\n",
       "29164    1737044      3948            1\n",
       "2257      224995      2768            1"
      ]
     },
     "execution_count": 34,
     "metadata": {},
     "output_type": "execute_result"
    }
   ],
   "source": [
    "test_events_sparce = test_events[['artist_id','venue_id']].copy()\n",
    "test_events_sparce['event_count'] = 1\n",
    "test_events_sparce.head()"
   ]
  },
  {
   "cell_type": "code",
   "execution_count": 35,
   "metadata": {},
   "outputs": [
    {
     "name": "stdout",
     "output_type": "stream",
     "text": [
      "<class 'pandas.core.frame.DataFrame'>\n",
      "Int64Index: 10113 entries, 9758 to 25830\n",
      "Data columns (total 3 columns):\n",
      "artist_id      10113 non-null int64\n",
      "venue_id       10113 non-null int64\n",
      "event_count    10113 non-null int64\n",
      "dtypes: int64(3)\n",
      "memory usage: 316.0 KB\n"
     ]
    }
   ],
   "source": [
    "test_events_sparce.info()"
   ]
  },
  {
   "cell_type": "code",
   "execution_count": 36,
   "metadata": {},
   "outputs": [],
   "source": [
    "test_events_sparce.to_csv('test_events_sparce.csv')"
   ]
  },
  {
   "cell_type": "code",
   "execution_count": null,
   "metadata": {},
   "outputs": [],
   "source": []
  },
  {
   "cell_type": "code",
   "execution_count": null,
   "metadata": {},
   "outputs": [],
   "source": []
  },
  {
   "cell_type": "code",
   "execution_count": null,
   "metadata": {},
   "outputs": [],
   "source": []
  }
 ],
 "metadata": {
  "kernelspec": {
   "display_name": "Python 3",
   "language": "python",
   "name": "python3"
  },
  "language_info": {
   "codemirror_mode": {
    "name": "ipython",
    "version": 3
   },
   "file_extension": ".py",
   "mimetype": "text/x-python",
   "name": "python",
   "nbconvert_exporter": "python",
   "pygments_lexer": "ipython3",
   "version": "3.6.5"
  }
 },
 "nbformat": 4,
 "nbformat_minor": 2
}
