{
 "cells": [
  {
   "cell_type": "code",
   "execution_count": 45,
   "metadata": {},
   "outputs": [
    {
     "name": "stdout",
     "output_type": "stream",
     "text": [
      "The autoreload extension is already loaded. To reload it, use:\n",
      "  %reload_ext autoreload\n"
     ]
    },
    {
     "data": {
      "text/plain": [
       "'import pyspark\\nfrom pyspark.sql.types import *\\nfrom pyspark.ml.tuning import TrainValidationSplit\\nfrom pyspark.ml.recommendation import ALS\\nfrom pyspark.ml.evaluation import RegressionEvaluator'"
      ]
     },
     "execution_count": 45,
     "metadata": {},
     "output_type": "execute_result"
    }
   ],
   "source": [
    "import sys\n",
    "sys.path.insert(0, '/Users/shiahlints/galvanize/FIXGITPROBLEM/booking-agent-ai')\n",
    "%load_ext autoreload\n",
    "%autoreload 2\n",
    "import pandas as pd\n",
    "import numpy as np\n",
    "import find_nearest_venues as fnv\n",
    "from sklearn.feature_extraction.text import CountVectorizer\n",
    "from sklearn.metrics.pairwise import cosine_similarity\n",
    "import matplotlib.pyplot as plt\n",
    "'''import pyspark\n",
    "from pyspark.sql.types import *\n",
    "from pyspark.ml.tuning import TrainValidationSplit\n",
    "from pyspark.ml.recommendation import ALS\n",
    "from pyspark.ml.evaluation import RegressionEvaluator'''"
   ]
  },
  {
   "cell_type": "markdown",
   "metadata": {},
   "source": [
    "# Load the data\n",
    "events is split into a tran and test set on time"
   ]
  },
  {
   "cell_type": "code",
   "execution_count": 6,
   "metadata": {},
   "outputs": [],
   "source": [
    "train_events = pd.read_pickle('../data/train_events_df.p')\n",
    "test_events = pd.read_pickle('../data/test_events_raw_df.p')\n",
    "train_venues = pd.read_pickle('../data/train_venues_df.p')\n",
    "artists = pd.read_pickle('../data/master_artists_df.p')"
   ]
  },
  {
   "cell_type": "markdown",
   "metadata": {},
   "source": [
    "# Calibrate the venufinder on the events in the training set\n",
    "get some samples so we have something to play with"
   ]
  },
  {
   "cell_type": "code",
   "execution_count": 27,
   "metadata": {},
   "outputs": [],
   "source": [
    "number_of_samples = 50\n",
    "samples = test_events.sample(number_of_samples)"
   ]
  },
  {
   "cell_type": "code",
   "execution_count": 13,
   "metadata": {},
   "outputs": [],
   "source": [
    "vf = fnv.Venue_Finder(train_venues)"
   ]
  },
  {
   "cell_type": "markdown",
   "metadata": {},
   "source": [
    "# Two function to  the most simular venues\n",
    "this function vectorizes the bio of a venue\n",
    "and the bio of the artist it then looks at the \n",
    "cosine simularity to find the most simular venue to \n",
    "the artist. This function return the ten most simular venues"
   ]
  },
  {
   "cell_type": "code",
   "execution_count": 23,
   "metadata": {},
   "outputs": [],
   "source": [
    "def find_nearest_neighbor_by_doc(artist_doc, venues, venue_column, features):\n",
    "    cv = CountVectorizer(stop_words='english', max_features=features)\n",
    "    venues_with_doc = venues[~venues[venue_column].isnull()]\n",
    "    venue_vectors = cv.fit_transform(venues_with_doc[venue_column])\n",
    "    artist_vector = cv.transform([artist_doc])\n",
    "    artist_neighbors = cosine_similarity(venue_vectors, artist_vector, dense_output=True)\n",
    "    a = list((np.argsort(-artist_neighbors, axis = 0)[0:10]).reshape(1,-1)[0])\n",
    "    neighbors = venues_with_doc.iloc[a,:]\n",
    "    return list(neighbors.venue_id)"
   ]
  },
  {
   "cell_type": "markdown",
   "metadata": {},
   "source": [
    "Lets check to see how often this aproach return the venue where the \n",
    "artist play in the test data"
   ]
  },
  {
   "cell_type": "code",
   "execution_count": 28,
   "metadata": {},
   "outputs": [
    {
     "name": "stdout",
     "output_type": "stream",
     "text": [
      "bio_rate  0.5652173913043478\n",
      "genre_rate  0.625\n"
     ]
    }
   ],
   "source": [
    "# If the artis has no bio or genre we should take note of that  \n",
    "no_bio = 0\n",
    "no_genre = 0\n",
    "# If the venue is not in the training data we don't check and \n",
    "# take note of that\n",
    "new_venue = 0 \n",
    "\n",
    "#The number of times that the evulating the Bio gave a good results\n",
    "# and the number of times it didn't\n",
    "bio_sucesses = 0\n",
    "bio_failures = 0\n",
    "#Same thing for genre\n",
    "genre_sucesses = 0\n",
    "genre_failures = 0\n",
    "\n",
    "#The number of nearest venues to evulate\n",
    "number_venues = 100\n",
    "#The threshold for a positive result\n",
    "top_n = 10\n",
    "for i, event in samples.iterrows():\n",
    "    artist_id = event.artist_id\n",
    "    venue_id = event.venue_id\n",
    "    artist_bio = event.artist_bio\n",
    "    artist_genre = event.artist_genre\n",
    "    if venue_id not in train_venues.venue_id.values:\n",
    "        new_venue += 1\n",
    "        continue\n",
    "    venues = vf.get_nearest_venues_by_venue(venue_id, number_venues)\n",
    "    \n",
    "    if artist_bio == None:\n",
    "        no_bio += 1\n",
    "    else:\n",
    "        if venue_id in find_nearest_neighbor_by_doc(artist_bio, venues, 'venue_bio', 250):\n",
    "            bio_sucesses += 1\n",
    "        else:\n",
    "            bio_failures += 1\n",
    "    if artist_genre == None:\n",
    "        no_genre += 1\n",
    "    else:\n",
    "        if venue_id in find_nearest_neighbor_by_doc(artist_genre, venues, 'venue_genre', 100):\n",
    "            genre_sucesses += 1\n",
    "        else:\n",
    "            genre_failures += 1\n",
    "    \n",
    "print ('bio_rate ', bio_sucesses/(bio_sucesses + bio_failures))\n",
    "print ('genre_rate ', genre_sucesses/(genre_sucesses + genre_failures))\n",
    " "
   ]
  },
  {
   "cell_type": "markdown",
   "metadata": {},
   "source": [
    "These are really good results lets maximize this model write a function that looks at \n",
    "one feature individually and takes feature ranks as an imput so we can max."
   ]
  },
  {
   "cell_type": "code",
   "execution_count": 63,
   "metadata": {},
   "outputs": [],
   "source": [
    "def get_top_ten(doc_column, samples, features, number_venues = 100, top_n = 10):\n",
    "    # If the artis has no doc \n",
    "    no_doc = 0\n",
    "    # If the venue is not in the training data we don't check and \n",
    "    # take note of that\n",
    "    new_venue = 0 \n",
    "\n",
    "    #The number of times that the the venue was in top ten rec or not\n",
    "    sucesses = 0\n",
    "    failures = 0\n",
    "    #Same thing for genre\n",
    "    \n",
    "    #The number of nearest venues to evulate\n",
    "    number_venues = number_venues\n",
    "    #The threshold for a positive result\n",
    "    top_n = top_n\n",
    "    for i, event in samples.iterrows():\n",
    "        artist_id = event.artist_id\n",
    "        venue_id = event.venue_id\n",
    "        artist_doc = event['artist_'+doc_column]\n",
    "        if venue_id not in train_venues.venue_id.values:\n",
    "            new_venue += 1\n",
    "            continue\n",
    "        venues = vf.get_nearest_venues_by_venue(venue_id, number_venues)\n",
    "\n",
    "        if artist_doc == None:\n",
    "            no_doc += 1\n",
    "        else:\n",
    "            if venue_id in find_nearest_neighbor_by_doc(artist_doc, venues, ('venue_'+doc_column), features):\n",
    "                sucesses += 1\n",
    "            else:\n",
    "                failures += 1\n",
    "\n",
    "    return sucesses/(sucesses + failures)"
   ]
  },
  {
   "cell_type": "code",
   "execution_count": 64,
   "metadata": {},
   "outputs": [
    {
     "data": {
      "text/plain": [
       "0.55"
      ]
     },
     "execution_count": 64,
     "metadata": {},
     "output_type": "execute_result"
    }
   ],
   "source": [
    "get_top_ten('bio', samples, 100)"
   ]
  },
  {
   "cell_type": "markdown",
   "metadata": {},
   "source": [
    "that worked now lest graph it once"
   ]
  },
  {
   "cell_type": "code",
   "execution_count": 69,
   "metadata": {},
   "outputs": [
    {
     "data": {
      "image/png": "[encoded data removed]",
      "text/plain": [
       "<Figure size 432x288 with 1 Axes>"
      ]
     },
     "metadata": {},
     "output_type": "display_data"
    }
   ],
   "source": [
    "fig, ax = plt.subplots()\n",
    "x = list(range(100,1500, 50))\n",
    "for i in range(5):\n",
    "    samples = test_events.sample(100)\n",
    "    y = []\n",
    "    for features in x:\n",
    "        y.append(get_top_ten('bio', samples, features))\n",
    "    plt.plot(x,y)\n"
   ]
  },
  {
   "cell_type": "code",
   "execution_count": 66,
   "metadata": {},
   "outputs": [
    {
     "data": {
      "image/png": "[encoded data removed]",
      "text/plain": [
       "<Figure size 432x288 with 1 Axes>"
      ]
     },
     "metadata": {},
     "output_type": "display_data"
    }
   ],
   "source": [
    "fig, ax = plt.subplots()\n",
    "x = list(range(20,150, 20))\n",
    "for i in range(5):\n",
    "    samples = test_events.sample(100)\n",
    "    y = []\n",
    "    for features in x:\n",
    "        y.append(get_top_ten('genre', samples, features))\n",
    "    plt.plot(x,y)"
   ]
  },
  {
   "cell_type": "code",
   "execution_count": null,
   "metadata": {},
   "outputs": [],
   "source": []
  }
 ],
 "metadata": {
  "kernelspec": {
   "display_name": "Python 3",
   "language": "python",
   "name": "python3"
  },
  "language_info": {
   "codemirror_mode": {
    "name": "ipython",
    "version": 3
   },
   "file_extension": ".py",
   "mimetype": "text/x-python",
   "name": "python",
   "nbconvert_exporter": "python",
   "pygments_lexer": "ipython3",
   "version": "3.6.5"
  }
 },
 "nbformat": 4,
 "nbformat_minor": 2
}
