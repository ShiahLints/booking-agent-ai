{
 "cells": [
  {
   "cell_type": "code",
   "execution_count": 1,
   "metadata": {},
   "outputs": [],
   "source": [
    "\n",
    "%load_ext autoreload\n",
    "%autoreload 2\n",
    "import pandas as pd\n",
    "import numpy as np\n",
    "import string, re"
   ]
  },
  {
   "cell_type": "code",
   "execution_count": 5,
   "metadata": {},
   "outputs": [],
   "source": [
    "venues = pd.read_csv('venues_clean.csv')\n",
    "events = pd.read_csv('events_clean.csv')\n",
    "artists = pd.read_csv('artists.csv')\n",
    "venues_dirty = pd.read_csv('venues.csv')"
   ]
  },
  {
   "cell_type": "markdown",
   "metadata": {},
   "source": [
    "# Clean the venues data\n",
    "bios and genre are in the right format\n",
    "rename columns and drop an unnamed column"
   ]
  },
  {
   "cell_type": "code",
   "execution_count": null,
   "metadata": {},
   "outputs": [],
   "source": []
  },
  {
   "cell_type": "code",
   "execution_count": 7,
   "metadata": {},
   "outputs": [],
   "source": [
    "#venues['len_genre'] = venues.venue_genre.apply(lambda x: x.split(' '))"
   ]
  },
  {
   "cell_type": "code",
   "execution_count": 8,
   "metadata": {},
   "outputs": [],
   "source": [
    "def convet_bio_genre_column(df, column):\n",
    "    data = df.copy()\n",
    "    regex = re.compile('[%s]' % re.escape(string.punctuation))\n",
    "    data[column] = data[column].apply(lambda x: regex.sub('', x).split(' '))\n",
    "    data[column] = data[column].apply(lambda x: [y for y in x if y!= 'nan'])\n",
    "    data[column] = data[column].apply(lambda x: ' '.join(x))\n",
    "    return data"
   ]
  },
  {
   "cell_type": "code",
   "execution_count": 9,
   "metadata": {},
   "outputs": [],
   "source": [
    "venues = convet_bio_genre_column(venues, 'genre')"
   ]
  },
  {
   "cell_type": "code",
   "execution_count": 10,
   "metadata": {},
   "outputs": [],
   "source": [
    "venues = convet_bio_genre_column(venues, 'bio')"
   ]
  },
  {
   "cell_type": "code",
   "execution_count": 11,
   "metadata": {},
   "outputs": [],
   "source": [
    "venues.rename({'genre':'venue_genre'}, axis = 1, inplace = True)"
   ]
  },
  {
   "cell_type": "code",
   "execution_count": 12,
   "metadata": {},
   "outputs": [],
   "source": [
    "venues = convet_bio_genre_column(venues, 'bio')"
   ]
  },
  {
   "cell_type": "code",
   "execution_count": 13,
   "metadata": {},
   "outputs": [],
   "source": [
    "venues = venues.drop(labels = ['Unnamed: 0', 'venueidentifer'], axis = 1)"
   ]
  },
  {
   "cell_type": "code",
   "execution_count": null,
   "metadata": {},
   "outputs": [],
   "source": [
    "def make_venues_text_data(df)\n",
    "    def convet_bio_genre_column(df, column):\n",
    "        data = df.copy()\n",
    "        regex = re.compile('[%s]' % re.escape(string.punctuation))\n",
    "        data[column] = data[column].apply(lambda x: regex.sub('', x).split(' '))\n",
    "        data[column] = data[column].apply(lambda x: [y for y in x if y!= 'nan'])\n",
    "        data[column] = data[column].apply(lambda x: ' '.join(x))\n",
    "        return data\n",
    "    venues = df.copy()\n",
    "    venues = convet_bio_genre_column(venues, 'genre')\n",
    "    venues = convet_bio_genre_column(venues, 'bio')\n",
    "    venues.rename({'genre':'venue_genre', 'bio':'venue_bio'}, axis = 1, inplace = True)\n",
    "    "
   ]
  },
  {
   "cell_type": "markdown",
   "metadata": {},
   "source": [
    "# prep the events data\n",
    "lon and lat will be brought in from venues\n",
    "drop usless data that is contained in artist dataframe"
   ]
  },
  {
   "cell_type": "code",
   "execution_count": null,
   "metadata": {},
   "outputs": [],
   "source": []
  },
  {
   "cell_type": "code",
   "execution_count": 28,
   "metadata": {},
   "outputs": [
    {
     "name": "stdout",
     "output_type": "stream",
     "text": [
      "<class 'pandas.core.frame.DataFrame'>\n",
      "RangeIndex: 30114 entries, 0 to 30113\n",
      "Data columns (total 32 columns):\n",
      "Unnamed: 0              30114 non-null int64\n",
      "Unnamed: 0.1            30114 non-null int64\n",
      "_id                     30114 non-null object\n",
      "artist_facebook         17524 non-null object\n",
      "artist_image            30114 non-null object\n",
      "artist_name             30114 non-null object\n",
      "artist_thumb            30114 non-null object\n",
      "artist_url              30114 non-null object\n",
      "artists_id              30114 non-null int64\n",
      "bio                     20763 non-null object\n",
      "genre                   22917 non-null object\n",
      "home_town               17431 non-null object\n",
      "mbid                    9557 non-null object\n",
      "tracker_count           30114 non-null int64\n",
      "upcoming_event_count    30114 non-null int64\n",
      "offers                  30114 non-null object\n",
      "datetime                30114 non-null object\n",
      "on_sale_datetime        9317 non-null object\n",
      "description             11955 non-null object\n",
      "lineup                  30114 non-null object\n",
      "event_id                30114 non-null int64\n",
      "event_url               30114 non-null object\n",
      "band_name               30114 non-null object\n",
      "venue_name              30114 non-null object\n",
      "country                 30114 non-null object\n",
      "region                  30114 non-null object\n",
      "city                    30114 non-null object\n",
      "latitude                30002 non-null float64\n",
      "longitude               30002 non-null float64\n",
      "venueidentifer          30114 non-null object\n",
      "venue_id                30114 non-null int64\n",
      "vn_original             30114 non-null object\n",
      "dtypes: float64(2), int64(7), object(23)\n",
      "memory usage: 7.4+ MB\n"
     ]
    }
   ],
   "source": [
    "events.info()"
   ]
  },
  {
   "cell_type": "code",
   "execution_count": 29,
   "metadata": {},
   "outputs": [],
   "source": [
    "events1 = events.drop(['artist_facebook', 'artist_image', 'artist_thumb', 'artist_url',\\\n",
    "            'latitude', 'longitude', 'venueidentifer', 'on_sale_datetime',\\\n",
    "            'offers', 'upcoming_event_count', 'mbid', 'tracker_count',\n",
    "            'Unnamed: 0', 'Unnamed: 0.1'], axis = 1)"
   ]
  },
  {
   "cell_type": "code",
   "execution_count": 30,
   "metadata": {},
   "outputs": [],
   "source": [
    "events1.rename({'bio':'artist_bio', 'genre':'artist_genre',\\\n",
    "               'home_town': 'artist_home_town'}, axis = 1, inplace = True)"
   ]
  },
  {
   "cell_type": "code",
   "execution_count": 31,
   "metadata": {},
   "outputs": [
    {
     "name": "stdout",
     "output_type": "stream",
     "text": [
      "<class 'pandas.core.frame.DataFrame'>\n",
      "RangeIndex: 30114 entries, 0 to 30113\n",
      "Data columns (total 18 columns):\n",
      "_id                 30114 non-null object\n",
      "artist_name         30114 non-null object\n",
      "artists_id          30114 non-null int64\n",
      "artist_bio          20763 non-null object\n",
      "artist_genre        22917 non-null object\n",
      "artist_home_town    17431 non-null object\n",
      "datetime            30114 non-null object\n",
      "description         11955 non-null object\n",
      "lineup              30114 non-null object\n",
      "event_id            30114 non-null int64\n",
      "event_url           30114 non-null object\n",
      "band_name           30114 non-null object\n",
      "venue_name          30114 non-null object\n",
      "country             30114 non-null object\n",
      "region              30114 non-null object\n",
      "city                30114 non-null object\n",
      "venue_id            30114 non-null int64\n",
      "vn_original         30114 non-null object\n",
      "dtypes: int64(3), object(15)\n",
      "memory usage: 4.1+ MB\n"
     ]
    }
   ],
   "source": [
    "events1.info()"
   ]
  },
  {
   "cell_type": "code",
   "execution_count": 32,
   "metadata": {},
   "outputs": [],
   "source": [
    "events1 = events1.join(venues[['venue_id', 'venue_genre', \\\n",
    "                               'venue_bio','longitude', 'latitude']].\\\n",
    "                       set_index('venue_id'), on=('venue_id'))"
   ]
  },
  {
   "cell_type": "code",
   "execution_count": 33,
   "metadata": {},
   "outputs": [
    {
     "name": "stdout",
     "output_type": "stream",
     "text": [
      "<class 'pandas.core.frame.DataFrame'>\n",
      "RangeIndex: 30114 entries, 0 to 30113\n",
      "Data columns (total 22 columns):\n",
      "_id                 30114 non-null object\n",
      "artist_name         30114 non-null object\n",
      "artists_id          30114 non-null int64\n",
      "artist_bio          20763 non-null object\n",
      "artist_genre        22917 non-null object\n",
      "artist_home_town    17431 non-null object\n",
      "datetime            30114 non-null object\n",
      "description         11955 non-null object\n",
      "lineup              30114 non-null object\n",
      "event_id            30114 non-null int64\n",
      "event_url           30114 non-null object\n",
      "band_name           30114 non-null object\n",
      "venue_name          30114 non-null object\n",
      "country             30114 non-null object\n",
      "region              30114 non-null object\n",
      "city                30114 non-null object\n",
      "venue_id            30114 non-null int64\n",
      "vn_original         30114 non-null object\n",
      "venue_genre         30114 non-null object\n",
      "venue_bio           30114 non-null object\n",
      "longitude           30048 non-null float64\n",
      "latitude            30048 non-null float64\n",
      "dtypes: float64(2), int64(3), object(17)\n",
      "memory usage: 5.1+ MB\n"
     ]
    }
   ],
   "source": [
    "events1.info()"
   ]
  },
  {
   "cell_type": "code",
   "execution_count": 34,
   "metadata": {},
   "outputs": [],
   "source": [
    "events1.to_csv('events_with_venue_bios.csv')"
   ]
  },
  {
   "cell_type": "code",
   "execution_count": 36,
   "metadata": {},
   "outputs": [],
   "source": [
    "venues.to_csv('venues_with_clean_bios.csv')"
   ]
  },
  {
   "cell_type": "code",
   "execution_count": null,
   "metadata": {},
   "outputs": [],
   "source": [
    "def make_events_clean(events_df, venues):\n",
    "    events1 = events_df.drop(['artist_facebook', 'artist_image', 'artist_thumb', 'artist_url',\\\n",
    "            'latitude', 'longitude', 'venueidentifer', 'on_sale_datetime',\\\n",
    "            'offers', 'upcoming_event_count', 'mbid', 'tracker_count',\n",
    "            'Unnamed: 0', 'Unnamed: 0.1'], axis = 1)\n",
    "    events1.rename({'bio':'artist_bio', 'genre':'artist_genre',\\\n",
    "               'home_town': 'artist_home_town'}, axis = 1, inplace = True)\n",
    "    events1 = events1.join(venues[['venue_id', 'venue_genre', 'venue_bio','longitude',\\\n",
    "                                   'latitude']].set_index('venue_id'), on=('venue_id'))"
   ]
  }
 ],
 "metadata": {
  "kernelspec": {
   "display_name": "Python 3",
   "language": "python",
   "name": "python3"
  },
  "language_info": {
   "codemirror_mode": {
    "name": "ipython",
    "version": 3
   },
   "file_extension": ".py",
   "mimetype": "text/x-python",
   "name": "python",
   "nbconvert_exporter": "python",
   "pygments_lexer": "ipython3",
   "version": "3.6.5"
  }
 },
 "nbformat": 4,
 "nbformat_minor": 2
}
