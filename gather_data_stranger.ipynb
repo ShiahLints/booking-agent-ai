{
 "cells": [
  {
   "cell_type": "code",
   "execution_count": 236,
   "metadata": {
    "ExecuteTime": {
     "end_time": "2018-08-02T15:08:40.047382Z",
     "start_time": "2018-08-02T15:08:40.027253Z"
    }
   },
   "outputs": [],
   "source": [
    "import pymongo\n",
    "import requests\n",
    "from bs4 import BeautifulSoup\n",
    "import time\n",
    "import json\n",
    "from selenium.webdriver import Chrome\n",
    "from pymongo import MongoClient\n",
    "import pprint\n",
    "\n",
    "def scrape_calender_row(event):\n",
    "    \n",
    "        \n",
    "    Bands = event.find('h3', {'class': 'calendar-post-title'}).find('a')\n",
    "    if Bands != None:\n",
    "        Bands = Bands.get_text(strip=True)\n",
    "        Bands = Bands.split(sep = ',')\n",
    "    Date = event.find('p', {'class' : 'calendar-post-date'})\n",
    "    if Date != None:\n",
    "        Date = Date.get_text(strip = True)\n",
    "    Venue = event.find('span', {'class' : 'calendar-post-venue'})\n",
    "    if Venue != None:\n",
    "        Venue = Venue.get_text(strip = True)\n",
    "    Neighborhood = event.find('span', {'class' : 'calendar-post-neighborhood'})\n",
    "    if Neighborhood != None:\n",
    "        Neighborhood = Neighborhood.get_text(strip = True)\n",
    "    Price = event.find('span', {'class' : 'calendar-post-event-price'})\n",
    "    if Price != None:\n",
    "        Price = Price.get_text(strip = True)\n",
    "    eventUrl = event.find('h3', {'class': 'calendar-post-title'}).find('a')['href']\n",
    "    minAge = event.find('p', {'class' : 'calendar-post-age'})\n",
    "    if minAge != None:\n",
    "        minAge = minAge.get_text(strip = True)\n",
    "    eventSubType = event.find('p', {'class' : 'calendar-post-category'}).find('a')\n",
    "    if eventSubType != None:\n",
    "        eventSubType = eventSubType.get_text(strip = True)\n",
    "    eventType = event.find('span', {'class' : 'label calendar-category'}).find('a')\n",
    "    if eventType != None:\n",
    "        eventType = eventType.get_text(strip = True)\n",
    "    event_id = eventUrl.split(sep = '/')[2]\n",
    "    \n",
    "    return ({'_id' : event_id,\n",
    "            'event_id': event_id,\n",
    "             'Bands/Title' :Bands, \n",
    "             'Date/time' : Date, \n",
    "             'Venue': Venue, \n",
    "             'Neighborhood' : Neighborhood, \n",
    "             'Price' : Price, \n",
    "             'eventUrl': eventUrl, \n",
    "             'minAge': minAge, \n",
    "             'eventSubType': eventSubType,\n",
    "             'eventType' : eventType})\n",
    "\n",
    "def scrape_event(website):\n",
    "    result = {}\n",
    "    url = website\n",
    "    page = requests.get(url)\n",
    "    html = page.content\n",
    "    soup = BeautifulSoup(page.content, \"lxml\")\n",
    "    \n",
    "    event_id = int(website.split('/')[4])\n",
    "    \n",
    "    event_title_bands = soup.find('h1', {'class': 'event-name'}).get_text(strip = True).split(',')\n",
    "    \n",
    "    min_age = soup.find ('div', 'event-info pull-left').find('span',{'class': 'event-type'})\n",
    "    if min_age != None:\n",
    "        min_age = min_age.get_text(strip = True)\n",
    "\n",
    "    stared = soup.find('div', {'id': 'event-header'}).find('div', {'class': 'higlights'})\n",
    "    if stared != None:\n",
    "        stared = stared.get_text(strip = True)\n",
    "    \n",
    "    # price = get from calendar\n",
    "    \n",
    "    event_hours = soup.find('div', {'class': 'event-times'}).find('span', {'class': 'list-table-content'})\n",
    "    if  event_hours != None:\n",
    "        event_hours = event_hours.get_text(strip=True)\n",
    "    \n",
    "    venue_info_page = soup.find('span', {'class': 'event-venue'}).find('a')['href']\n",
    "    venue_id = int(venue_info_page.split(sep = '/')[2])\n",
    "    \n",
    "    #this last scrape might have an error. event description has more then one class\n",
    "    event_description = soup.find('div', {'id' : 'event-description'}).get_text()\n",
    "\n",
    "    generas = soup.find('div', {'class': 'event-genres'}).find('span', {'id': 'event-category-bottom'}).find_all('a')\n",
    "    genera_lst = []\n",
    "    for genera in generas:\n",
    "        genera_lst.append(genera.get_text(strip = True))\n",
    "    generas = genera_lst\n",
    "    \n",
    "    return( {'_id' : event_id,\n",
    "            'event_id': event_id, \n",
    "            'event_title_bands':event_title_bands, \n",
    "            'min_age':min_age, \n",
    "            'stared':stared, \n",
    "            'event_hours': event_hours,\n",
    "            'venue_info_page' : venue_info_page,\n",
    "            'venue_id':venue_id,\n",
    "            'eventDescription': Description,\n",
    "            'generas' : generas\n",
    "           })\n",
    "\n",
    "def scrape_venue(website):\n",
    "    url = website\n",
    "    page = requests.get(url)\n",
    "    html = page.content\n",
    "    soup = BeautifulSoup(page.content, \"lxml\")\n",
    "\n",
    "    venue_id = int(website.split(sep = '/')[4])\n",
    "    \n",
    "    venue_name = soup.find('h1', {'class' : 'location-name'}).get_text(strip = True)\n",
    "    \n",
    "    description = soup.find('div', {'id' : 'location-description'})\n",
    "    if description != None:\n",
    "        description = description.get_text()\n",
    "    \n",
    "    catagorieSoup = soup.find('span', {'class': 'location-category'})\n",
    "    if catagorieSoup != None:\n",
    "        catagorieSoup = catagorieSoup.find_all('a')\n",
    "        if catagorieSoup != None:\n",
    "            catagories = []\n",
    "            for a in catagorieSoup:\n",
    "                catagories.append(a.get_text())\n",
    "        catagories = catagories\n",
    "    \n",
    "    venue_address = soup.find('span', {'class': 'location-address'})\n",
    "    if venue_address != None:\n",
    "        venue_address = venue_address.get_text()\n",
    "    \n",
    "    venue_phone = soup.find('div', {'class': 'venue-phone'})\n",
    "    if venue_phone != None:\n",
    "        venue_phone = venue_phone.get_text()\n",
    "    \n",
    "    venue_website = soup.find('div', {'class': 'venue-website'})\n",
    "    if venue_website != None:\n",
    "        venue_website = venue_website.get_text()\n",
    "    \n",
    "    location_details = soup.find('div', {'class': 'location-details'})\n",
    "    # this might fail\n",
    "    if location_details != None:\n",
    "        location_features = location_details.find_all('span', {'class': 'list-table-content'})[0].get_text()\n",
    "        location_scene = location_details.find_all('span', {'class': 'list-table-content'})[1].get_text()\n",
    "    \n",
    "    venue_hours = soup.find('div', {'class': 'venue-hours'}).get_text()\n",
    "    \n",
    "    return ({'_id' : venue_id,\n",
    "            'venue_id': venue_id,\n",
    "            'venue_name': venue_name,\n",
    "            'description': description,\n",
    "            'venue_hours': venue_hours,\n",
    "            'location_catagories': catagories,\n",
    "            'venue_address': venue_address,\n",
    "            'venue_phone': venue_phone,\n",
    "            'venue_website': venue_website,\n",
    "            'location_features': location_features,\n",
    "            'location_scene': location_scene})\n",
    "    \n",
    "    \n",
    "    \n",
    "    \n",
    "\n",
    "def scrape_calander_pages(start_website, pages):\n",
    "    url = start_website\n",
    "    results = []\n",
    "    print('test')\n",
    "    for page in range(0, pages):\n",
    "        print(url)\n",
    "        page_request = requests.get(url)\n",
    "        html = page_request.content\n",
    "        soup = BeautifulSoup(page_request.content, \"lxml\")\n",
    "        rows = soup.find_all('div', {'class': 'calendar-post row'})\n",
    "        for row in rows:\n",
    "            results.append(scrape_calender_row(row))\n",
    "        url = soup.find_all('ul', {'class' : 'pager'})[1].find('li',{'class':'next'}).find('a')['href']\n",
    "        \n",
    "    return results"
   ]
  },
  {
   "cell_type": "code",
   "execution_count": 502,
   "metadata": {},
   "outputs": [],
   "source": [
    "start_website = 'https://www.thestranger.com/events/performance'"
   ]
  },
  {
   "cell_type": "code",
   "execution_count": 498,
   "metadata": {},
   "outputs": [],
   "source": [
    "url = start_website\n",
    "page_request = requests.get(url)\n",
    "html = page_request.content\n",
    "soup = BeautifulSoup(page_request.content, \"lxml\")"
   ]
  },
  {
   "cell_type": "code",
   "execution_count": 499,
   "metadata": {},
   "outputs": [
    {
     "data": {
      "text/plain": [
       "<ul class=\"pager\" style=\"border-top:0;padding-top:10px;\">\n",
       "<li class=\"previous \">\n",
       "<a href=\"https://www.thestranger.com/events/music/2018-08-10?view_id=events\">« Friday 8/10</a>\n",
       "</li>\n",
       "<li class=\"next\"><a href=\"https://www.thestranger.com/events/music/2018-08-11?page=2&amp;view_id=events\">Next on Saturday 8/11 »</a></li>\n",
       "</ul>"
      ]
     },
     "execution_count": 499,
     "metadata": {},
     "output_type": "execute_result"
    }
   ],
   "source": [
    "soup.find_all('ul', {'class' : 'pager'})[1]"
   ]
  },
  {
   "cell_type": "code",
   "execution_count": 503,
   "metadata": {},
   "outputs": [
    {
     "name": "stdout",
     "output_type": "stream",
     "text": [
      "test\n",
      "https://www.thestranger.com/events/performance\n",
      "https://www.thestranger.com/events/performance?page=2&view_id=events\n",
      "https://www.thestranger.com/events/performance?page=3&view_id=events\n",
      "https://www.thestranger.com/events/performance?page=4&view_id=events\n",
      "https://www.thestranger.com/events/performance?page=5&view_id=events\n",
      "https://www.thestranger.com/events/performance?page=6&view_id=events\n",
      "https://www.thestranger.com/events/performance?page=7&view_id=events\n",
      "https://www.thestranger.com/events/performance?page=8&view_id=events\n",
      "https://www.thestranger.com/events/performance?page=9&view_id=events\n",
      "https://www.thestranger.com/events/performance?page=10&view_id=events\n",
      "https://www.thestranger.com/events/performance?page=11&view_id=events\n"
     ]
    },
    {
     "ename": "AttributeError",
     "evalue": "'NoneType' object has no attribute 'find'",
     "output_type": "error",
     "traceback": [
      "\u001b[0;31m---------------------------------------------------------------------------\u001b[0m",
      "\u001b[0;31mAttributeError\u001b[0m                            Traceback (most recent call last)",
      "\u001b[0;32m<ipython-input-503-c4d1a82d8253>\u001b[0m in \u001b[0;36m<module>\u001b[0;34m()\u001b[0m\n\u001b[0;32m----> 1\u001b[0;31m \u001b[0mscrape_calander_pages\u001b[0m\u001b[0;34m(\u001b[0m\u001b[0mstart_website\u001b[0m\u001b[0;34m,\u001b[0m \u001b[0;36m20\u001b[0m\u001b[0;34m)\u001b[0m\u001b[0;34m\u001b[0m\u001b[0m\n\u001b[0m",
      "\u001b[0;32m<ipython-input-497-6f5334199166>\u001b[0m in \u001b[0;36mscrape_calander_pages\u001b[0;34m(start_website, pages)\u001b[0m\n\u001b[1;32m     11\u001b[0m         \u001b[0;32mfor\u001b[0m \u001b[0mrow\u001b[0m \u001b[0;32min\u001b[0m \u001b[0mrows\u001b[0m\u001b[0;34m:\u001b[0m\u001b[0;34m\u001b[0m\u001b[0m\n\u001b[1;32m     12\u001b[0m             \u001b[0mresults\u001b[0m\u001b[0;34m.\u001b[0m\u001b[0mappend\u001b[0m\u001b[0;34m(\u001b[0m\u001b[0mscrape_calender_row\u001b[0m\u001b[0;34m(\u001b[0m\u001b[0mrow\u001b[0m\u001b[0;34m)\u001b[0m\u001b[0;34m)\u001b[0m\u001b[0;34m\u001b[0m\u001b[0m\n\u001b[0;32m---> 13\u001b[0;31m         \u001b[0murl\u001b[0m \u001b[0;34m=\u001b[0m \u001b[0msoup\u001b[0m\u001b[0;34m.\u001b[0m\u001b[0mfind_all\u001b[0m\u001b[0;34m(\u001b[0m\u001b[0;34m'ul'\u001b[0m\u001b[0;34m,\u001b[0m \u001b[0;34m{\u001b[0m\u001b[0;34m'class'\u001b[0m \u001b[0;34m:\u001b[0m \u001b[0;34m'pager'\u001b[0m\u001b[0;34m}\u001b[0m\u001b[0;34m)\u001b[0m\u001b[0;34m[\u001b[0m\u001b[0;36m1\u001b[0m\u001b[0;34m]\u001b[0m\u001b[0;34m.\u001b[0m\u001b[0mfind\u001b[0m\u001b[0;34m(\u001b[0m\u001b[0;34m'li'\u001b[0m\u001b[0;34m,\u001b[0m\u001b[0;34m{\u001b[0m\u001b[0;34m'class'\u001b[0m\u001b[0;34m:\u001b[0m\u001b[0;34m'next'\u001b[0m\u001b[0;34m}\u001b[0m\u001b[0;34m)\u001b[0m\u001b[0;34m.\u001b[0m\u001b[0mfind\u001b[0m\u001b[0;34m(\u001b[0m\u001b[0;34m'a'\u001b[0m\u001b[0;34m)\u001b[0m\u001b[0;34m[\u001b[0m\u001b[0;34m'href'\u001b[0m\u001b[0;34m]\u001b[0m\u001b[0;34m\u001b[0m\u001b[0m\n\u001b[0m\u001b[1;32m     14\u001b[0m \u001b[0;34m\u001b[0m\u001b[0m\n\u001b[1;32m     15\u001b[0m     \u001b[0;32mreturn\u001b[0m \u001b[0mresults\u001b[0m\u001b[0;34m\u001b[0m\u001b[0m\n",
      "\u001b[0;31mAttributeError\u001b[0m: 'NoneType' object has no attribute 'find'"
     ]
    }
   ],
   "source": [
    "scrape_calander_pages(start_website, 20)"
   ]
  },
  {
   "cell_type": "code",
   "execution_count": 447,
   "metadata": {},
   "outputs": [
    {
     "data": {
      "text/plain": [
       "{'_id': '29450566',\n",
       " 'event_id': '29450566',\n",
       " 'Bands/Title': ['Sound Spots: Music of the Duwamish Peninsula'],\n",
       " 'Date/time': 'Starts Aug.  9 Thurs-Sat, 12-4 pm. Through  Dec 31',\n",
       " 'Venue': 'Log House Museum',\n",
       " 'Neighborhood': 'West Seattle',\n",
       " 'Price': '$3 suggested donation',\n",
       " 'eventUrl': '/events/29450566/sound-spots-music-of-the-duwamish-peninsula',\n",
       " 'minAge': None,\n",
       " 'eventSubType': 'Special Events',\n",
       " 'eventType': 'Art'}"
      ]
     },
     "execution_count": 447,
     "metadata": {},
     "output_type": "execute_result"
    }
   ],
   "source": [
    "scrape_calender_row(a)"
   ]
  },
  {
   "cell_type": "code",
   "execution_count": 80,
   "metadata": {
    "ExecuteTime": {
     "end_time": "2018-08-02T15:08:49.650754Z",
     "start_time": "2018-08-02T15:08:46.103514Z"
    }
   },
   "outputs": [],
   "source": [
    "browser = Chrome"
   ]
  },
  {
   "cell_type": "code",
   "execution_count": 209,
   "metadata": {},
   "outputs": [],
   "source": [
    "result = {}\n",
    "url = 'https://www.thestranger.com/events/29841220/hard-left-empire-justice-will-to-power-geophagia'\n",
    "page = requests.get(url)\n",
    "html = page.content\n",
    "soup = BeautifulSoup(page.content, \"lxml\")\n"
   ]
  },
  {
   "cell_type": "code",
   "execution_count": 193,
   "metadata": {},
   "outputs": [
    {
     "ename": "TypeError",
     "evalue": "'NoneType' object does not support item assignment",
     "output_type": "error",
     "traceback": [
      "\u001b[0;31m---------------------------------------------------------------------------\u001b[0m",
      "\u001b[0;31mTypeError\u001b[0m                                 Traceback (most recent call last)",
      "\u001b[0;32m<ipython-input-193-ed7d1c2a02c6>\u001b[0m in \u001b[0;36m<module>\u001b[0;34m()\u001b[0m\n\u001b[0;32m----> 1\u001b[0;31m \u001b[0mresult\u001b[0m\u001b[0;34m[\u001b[0m\u001b[0;34m'a'\u001b[0m\u001b[0;34m]\u001b[0m\u001b[0;34m=\u001b[0m\u001b[0;36m4\u001b[0m\u001b[0;34m\u001b[0m\u001b[0m\n\u001b[0m",
      "\u001b[0;31mTypeError\u001b[0m: 'NoneType' object does not support item assignment"
     ]
    }
   ],
   "source": [
    "soup.find()"
   ]
  },
  {
   "cell_type": "code",
   "execution_count": 191,
   "metadata": {},
   "outputs": [
    {
     "data": {
      "text/plain": [
       "{'a': 4}"
      ]
     },
     "execution_count": 191,
     "metadata": {},
     "output_type": "execute_result"
    }
   ],
   "source": [
    "result"
   ]
  },
  {
   "cell_type": "code",
   "execution_count": 120,
   "metadata": {},
   "outputs": [],
   "source": [
    "mc = pymongo.MongoClient()  # Connect to the MongoDB server using default settings\n",
    "capstone_db = mc['stranger_scraping']  # Use (or create) a database called 'election_predictions'\n",
    "location_info = capstone_db['events']  # Use (or create) a collection called 'docs'"
   ]
  },
  {
   "cell_type": "code",
   "execution_count": 179,
   "metadata": {},
   "outputs": [],
   "source": [
    "website = ('https://www.thestranger.com/locations/24704/chop-suey')"
   ]
  },
  {
   "cell_type": "code",
   "execution_count": 182,
   "metadata": {},
   "outputs": [
    {
     "data": {
      "text/plain": [
       "'24704'"
      ]
     },
     "execution_count": 182,
     "metadata": {},
     "output_type": "execute_result"
    }
   ],
   "source": [
    "website.split(sep = '/')[4]"
   ]
  },
  {
   "cell_type": "code",
   "execution_count": 520,
   "metadata": {},
   "outputs": [
    {
     "data": {
      "text/plain": [
       "30"
      ]
     },
     "execution_count": 520,
     "metadata": {},
     "output_type": "execute_result"
    }
   ],
   "source": [
    "location_info.count_documents({})\n"
   ]
  },
  {
   "cell_type": "code",
   "execution_count": 510,
   "metadata": {},
   "outputs": [
    {
     "data": {
      "text/plain": [
       "<pymongo.cursor.Cursor at 0x1119f02b0>"
      ]
     },
     "execution_count": 510,
     "metadata": {},
     "output_type": "execute_result"
    }
   ],
   "source": [
    "db.location_info.find()"
   ]
  },
  {
   "cell_type": "code",
   "execution_count": null,
   "metadata": {},
   "outputs": [],
   "source": []
  }
 ],
 "metadata": {
  "kernelspec": {
   "display_name": "Python 2",
   "language": "python",
   "name": "python2"
  },
  "language_info": {
   "codemirror_mode": {
    "name": "ipython",
    "version": 3
   },
   "file_extension": ".py",
   "mimetype": "text/x-python",
   "name": "python",
   "nbconvert_exporter": "python",
   "pygments_lexer": "ipython3",
   "version": "3.6.5"
  }
 },
 "nbformat": 4,
 "nbformat_minor": 2
}
