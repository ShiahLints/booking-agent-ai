{
 "cells": [
  {
   "cell_type": "code",
   "execution_count": 14,
   "metadata": {
    "ExecuteTime": {
     "end_time": "2018-08-02T15:08:40.047382Z",
     "start_time": "2018-08-02T15:08:40.027253Z"
    }
   },
   "outputs": [],
   "source": [
    "import pymongo\n",
    "import requests\n",
    "from bs4 import BeautifulSoup\n",
    "import time\n",
    "import json\n",
    "from selenium.webdriver import Chrome\n",
    "from pymongo import MongoClient\n",
    "import pprint"
   ]
  },
  {
   "cell_type": "code",
   "execution_count": 15,
   "metadata": {},
   "outputs": [],
   "source": [
    "mc = pymongo.MongoClient()  # Connect to the MongoDB server using default settings\n",
    "capstone_db = mc['stranger_scraping']  # Use (or create) a database called 'election_predictions'\n",
    "calandar_collection = capstone_db['calendar']  # Use (or create) a collection called 'docs'"
   ]
  },
  {
   "cell_type": "code",
   "execution_count": 25,
   "metadata": {},
   "outputs": [],
   "source": [
    "def Scrape_calender_page(website, collection):\n",
    "    url = website\n",
    "    page = requests.get(url)\n",
    "    html = page.content\n",
    "    soup = BeautifulSoup(page.content, \"lxml\")\n",
    "    \n",
    "    events = soup.find_all('div', {'class': 'calendar-post row'})\n",
    "    for event in events:    \n",
    "        Bands = event.find('h3', {'class': 'calendar-post-title'}).find('a')\n",
    "        if Bands != None:\n",
    "            Bands = Bands.get_text(strip=True)\n",
    "            Bands = Bands.split(sep = ',')\n",
    "        Date = event.find('p', {'class' : 'calendar-post-date'})\n",
    "        if Date != None:\n",
    "            Date = Date.get_text(strip = True)\n",
    "        Venue = event.find('span', {'class' : 'calendar-post-venue'})\n",
    "        if Venue != None:\n",
    "            Venue = Venue.get_text(strip = True)\n",
    "        Neighborhood = event.find('span', {'class' : 'calendar-post-neighborhood'})\n",
    "        if Neighborhood != None:\n",
    "            Neighborhood = Neighborhood.get_text(strip = True)\n",
    "        Price = event.find('span', {'class' : 'calendar-post-event-price'})\n",
    "        if Price != None:\n",
    "            Price = Price.get_text(strip = True)\n",
    "        eventUrl = event.find('h3', {'class': 'calendar-post-title'}).find('a')['href']\n",
    "        minAge = event.find('p', {'class' : 'calendar-post-age'})\n",
    "        if minAge != None:\n",
    "            minAge = minAge.get_text(strip = True)\n",
    "        eventSubType = event.find('p', {'class' : 'calendar-post-category'}).find('a')\n",
    "        if eventSubType != None:\n",
    "            eventSubType = eventSubType.get_text(strip = True)\n",
    "        eventType = event.find('span', {'class' : 'label calendar-category'}).find('a')\n",
    "        if eventType != None:\n",
    "            eventType = eventType.get_text(strip = True)\n",
    "        event_id = eventUrl.split(sep = '/')[2]\n",
    "    \n",
    "        collecton.update ({_id : event_id,\n",
    "             'event_id': event_id,\n",
    "             'Bands/Title' :Bands, \n",
    "             'Date/time' : Date, \n",
    "             'Venue': Venue, \n",
    "             'Neighborhood' : Neighborhood, \n",
    "             'Price' : Price, \n",
    "             'eventUrl': eventUrl, \n",
    "             'minAge': minAge, \n",
    "             'eventSubType': eventSubType,\n",
    "             'eventType' : eventType})\n",
    "\n"
   ]
  },
  {
   "cell_type": "code",
   "execution_count": 33,
   "metadata": {},
   "outputs": [
    {
     "ename": "NameError",
     "evalue": "name 'collecton' is not defined",
     "output_type": "error",
     "traceback": [
      "\u001b[0;31m---------------------------------------------------------------------------\u001b[0m",
      "\u001b[0;31mNameError\u001b[0m                                 Traceback (most recent call last)",
      "\u001b[0;32m<ipython-input-33-b1cd17ea032e>\u001b[0m in \u001b[0;36m<module>\u001b[0;34m()\u001b[0m\n\u001b[0;32m----> 1\u001b[0;31m \u001b[0mScrape_calender_page\u001b[0m\u001b[0;34m(\u001b[0m\u001b[0mwebsite\u001b[0m\u001b[0;34m,\u001b[0m \u001b[0mcollection\u001b[0m\u001b[0;34m)\u001b[0m\u001b[0;34m\u001b[0m\u001b[0m\n\u001b[0m",
      "\u001b[0;32m<ipython-input-25-2b9843c4133a>\u001b[0m in \u001b[0;36mScrape_calender_page\u001b[0;34m(website, collection)\u001b[0m\n\u001b[1;32m     35\u001b[0m         \u001b[0mevent_id\u001b[0m \u001b[0;34m=\u001b[0m \u001b[0meventUrl\u001b[0m\u001b[0;34m.\u001b[0m\u001b[0msplit\u001b[0m\u001b[0;34m(\u001b[0m\u001b[0msep\u001b[0m \u001b[0;34m=\u001b[0m \u001b[0;34m'/'\u001b[0m\u001b[0;34m)\u001b[0m\u001b[0;34m[\u001b[0m\u001b[0;36m2\u001b[0m\u001b[0;34m]\u001b[0m\u001b[0;34m\u001b[0m\u001b[0m\n\u001b[1;32m     36\u001b[0m \u001b[0;34m\u001b[0m\u001b[0m\n\u001b[0;32m---> 37\u001b[0;31m         collecton.update ({_id : event_id,\n\u001b[0m\u001b[1;32m     38\u001b[0m              \u001b[0;34m'event_id'\u001b[0m\u001b[0;34m:\u001b[0m \u001b[0mevent_id\u001b[0m\u001b[0;34m,\u001b[0m\u001b[0;34m\u001b[0m\u001b[0m\n\u001b[1;32m     39\u001b[0m              \u001b[0;34m'Bands/Title'\u001b[0m \u001b[0;34m:\u001b[0m\u001b[0mBands\u001b[0m\u001b[0;34m,\u001b[0m\u001b[0;34m\u001b[0m\u001b[0m\n",
      "\u001b[0;31mNameError\u001b[0m: name 'collecton' is not defined"
     ]
    }
   ],
   "source": [
    "Scrape_calender_page(website,calendar_collection)"
   ]
  },
  {
   "cell_type": "code",
   "execution_count": null,
   "metadata": {},
   "outputs": [],
   "source": []
  },
  {
   "cell_type": "code",
   "execution_count": 23,
   "metadata": {
    "ExecuteTime": {
     "end_time": "2018-08-02T15:11:45.110495Z",
     "start_time": "2018-08-02T15:11:42.389961Z"
    }
   },
   "outputs": [],
   "source": [
    "def scrape_venue_page(website, collection):\n",
    "    result = {}\n",
    "    url = website\n",
    "    page = requests.get(url)\n",
    "    html = page.content\n",
    "    soup = BeautifulSoup(page.content, \"lxml\")\n",
    "\n",
    "    result['_id'] = int(website.split(sep = '/')[4])\n",
    "    description = soup.find('div', {'id' : 'location-description'})\n",
    "    if description != None:\n",
    "        result['description'] = description.get_text()\n",
    "    catagorieSoup = soup.find('span', {'class': 'location-category'})\n",
    "    if catagorieSoup != None:\n",
    "        catagorieSoup = catagorieSoup.find_all('a')\n",
    "        if catagorieSoup != None:\n",
    "            catagories = []\n",
    "            for a in catagorieSoup:\n",
    "                catagories.append(a.get_text())\n",
    "        result['catagories'] = catagories\n",
    "    venue_address = soup.find('span', {'class': 'location-address'})\n",
    "    if venue_address != None:\n",
    "        result['venue_address'] = venue_address.get_text()\n",
    "    venue_phone = soup.find('div', {'class': 'venue-phone'})\n",
    "    if venue_phone != None:\n",
    "        result['venue_phone'] = vunue_phone.get_text()\n",
    "    venue_website = soup.find('div', {'class': 'venue-website'})\n",
    "    if venue_website != None:\n",
    "        result['venue_website'] = venue_website.get_text()\n",
    "    location_details = soup.find('div', {'class': 'location-details'})\n",
    "    # this might fail\n",
    "    if location_details != None:\n",
    "        result['location_features'] = location_details.find_all('span', {'class': 'list-table-content'})[0].get_text()\n",
    "        result['location_scene'] = location_details.find_all('span', {'class': 'list-table-content'})[1].get_text()\n",
    "    \n",
    "    return result\n",
    "    \n",
    "    \n",
    "    \n",
    "    "
   ]
  },
  {
   "cell_type": "code",
   "execution_count": 27,
   "metadata": {},
   "outputs": [],
   "source": [
    "website = 'https://www.thestranger.com/events/music'"
   ]
  },
  {
   "cell_type": "code",
   "execution_count": 37,
   "metadata": {},
   "outputs": [
    {
     "ename": "NameError",
     "evalue": "name 'collection_collection' is not defined",
     "output_type": "error",
     "traceback": [
      "\u001b[0;31m---------------------------------------------------------------------------\u001b[0m",
      "\u001b[0;31mNameError\u001b[0m                                 Traceback (most recent call last)",
      "\u001b[0;32m<ipython-input-37-bdefe5fa726c>\u001b[0m in \u001b[0;36m<module>\u001b[0;34m()\u001b[0m\n\u001b[0;32m----> 1\u001b[0;31m \u001b[0mScrape_calender_page\u001b[0m\u001b[0;34m(\u001b[0m\u001b[0mwebsite\u001b[0m\u001b[0;34m,\u001b[0m \u001b[0mcollection_collection\u001b[0m\u001b[0;34m)\u001b[0m\u001b[0;34m\u001b[0m\u001b[0m\n\u001b[0m",
      "\u001b[0;31mNameError\u001b[0m: name 'collection_collection' is not defined"
     ]
    }
   ],
   "source": [
    "Scrape_calender_page(website, collection_collection)"
   ]
  },
  {
   "cell_type": "code",
   "execution_count": 80,
   "metadata": {
    "ExecuteTime": {
     "end_time": "2018-08-02T15:08:49.650754Z",
     "start_time": "2018-08-02T15:08:46.103514Z"
    }
   },
   "outputs": [],
   "source": [
    "browser = Chrome"
   ]
  },
  {
   "cell_type": "code",
   "execution_count": 209,
   "metadata": {},
   "outputs": [],
   "source": [
    "result = {}\n",
    "url = 'https://www.thestranger.com/events/29841220/hard-left-empire-justice-will-to-power-geophagia'\n",
    "page = requests.get(url)\n",
    "html = page.content\n",
    "soup = BeautifulSoup(page.content, \"lxml\")\n"
   ]
  },
  {
   "cell_type": "code",
   "execution_count": 193,
   "metadata": {},
   "outputs": [
    {
     "ename": "TypeError",
     "evalue": "'NoneType' object does not support item assignment",
     "output_type": "error",
     "traceback": [
      "\u001b[0;31m---------------------------------------------------------------------------\u001b[0m",
      "\u001b[0;31mTypeError\u001b[0m                                 Traceback (most recent call last)",
      "\u001b[0;32m<ipython-input-193-ed7d1c2a02c6>\u001b[0m in \u001b[0;36m<module>\u001b[0;34m()\u001b[0m\n\u001b[0;32m----> 1\u001b[0;31m \u001b[0mresult\u001b[0m\u001b[0;34m[\u001b[0m\u001b[0;34m'a'\u001b[0m\u001b[0;34m]\u001b[0m\u001b[0;34m=\u001b[0m\u001b[0;36m4\u001b[0m\u001b[0;34m\u001b[0m\u001b[0m\n\u001b[0m",
      "\u001b[0;31mTypeError\u001b[0m: 'NoneType' object does not support item assignment"
     ]
    }
   ],
   "source": [
    "soup.find()"
   ]
  },
  {
   "cell_type": "code",
   "execution_count": 191,
   "metadata": {},
   "outputs": [
    {
     "data": {
      "text/plain": [
       "{'a': 4}"
      ]
     },
     "execution_count": 191,
     "metadata": {},
     "output_type": "execute_result"
    }
   ],
   "source": [
    "result"
   ]
  },
  {
   "cell_type": "code",
   "execution_count": 120,
   "metadata": {},
   "outputs": [],
   "source": [
    "mc = pymongo.MongoClient()  # Connect to the MongoDB server using default settings\n",
    "capstone_db = mc['stranger_scraping']  # Use (or create) a database called 'election_predictions'\n",
    "location_info = capstone_db['events']  # Use (or create) a collection called 'docs'"
   ]
  },
  {
   "cell_type": "code",
   "execution_count": 179,
   "metadata": {},
   "outputs": [],
   "source": [
    "website = ('https://www.thestranger.com/locations/24704/chop-suey')"
   ]
  },
  {
   "cell_type": "code",
   "execution_count": 182,
   "metadata": {},
   "outputs": [
    {
     "data": {
      "text/plain": [
       "'24704'"
      ]
     },
     "execution_count": 182,
     "metadata": {},
     "output_type": "execute_result"
    }
   ],
   "source": [
    "website.split(sep = '/')[4]"
   ]
  },
  {
   "cell_type": "code",
   "execution_count": null,
   "metadata": {},
   "outputs": [],
   "source": []
  }
 ],
 "metadata": {
  "kernelspec": {
   "display_name": "Python 2",
   "language": "python",
   "name": "python2"
  },
  "language_info": {
   "codemirror_mode": {
    "name": "ipython",
    "version": 3
   },
   "file_extension": ".py",
   "mimetype": "text/x-python",
   "name": "python",
   "nbconvert_exporter": "python",
   "pygments_lexer": "ipython3",
   "version": "3.6.5"
  }
 },
 "nbformat": 4,
 "nbformat_minor": 2
}
