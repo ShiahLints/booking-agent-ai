{
 "cells": [
  {
   "cell_type": "code",
   "execution_count": 1,
   "metadata": {},
   "outputs": [],
   "source": [
    "\"\"\"\n",
    "\n",
    "This code gathers all the data together and stores it in a mongodb:\n",
    "In order to run this notebook. First a list of Citys must be selected\n",
    "And from there the BIT website must be scraped city by city to generate \n",
    "a set of bands. \n",
    "\n",
    "\"\"\"\n",
    "\n",
    "import gather_data as gd\n",
    "import pandas as pd\n",
    "import re\n",
    "from pymongo import MongoClient\n",
    "import requests\n",
    "\n",
    "        \n",
    "\n",
    "mc = MongoClient()  # Connect to the MongoDB server using default settings\n",
    "capstone_db = mc['stranger_scraping']  # Use (or create) a database called 'election_predictions'\n",
    "location_info = capstone_db['events']\n",
    "\n",
    "#this was my attempt to gather the venue data right after the call\n",
    "#it has missing values though an will be easier to deal with \n",
    "#after the fact\n",
    "\n",
    "'''def clean_event_to_store(e):\n",
    "    #print(e)\n",
    "    e['venue_gps'] = e['venue']['latitude'] +','+ e['venue']['longitude']\n",
    "    e['country'] = e['venue']['country']\n",
    "    e['region'] = e['venue']['region']\n",
    "    e['city'] = e['venue']['city']\n",
    "    e['venue_name'] = e['venue']['name']\n",
    "    e['venue_long'] = e['venue']['longitude']\n",
    "    e['venue_lat'] = e['venue']['latitude']\n",
    "    del e['venue']\n",
    "                                                            \n",
    "    return e'''\n",
    "\n",
    "def api_tour_call(band):\n",
    "    \n",
    "    # these next lines of code remove chars the the BIT api does not like\n",
    "    band_name = band\n",
    "    band_name = band_name.replace(' ','%20')\n",
    "    band_name = band_name.replace( '/', '%252F')\n",
    "    band_name = band_name.replace( '?', '%253F')\n",
    "    band_name = band_name.replace( '*', '%252A')\n",
    "    band_name = band_name.replace( '\"', '%2&C')\n",
    "    \n",
    "    #print('api_call', band_name)\n",
    "    #ther are a small number of bands with names to long for the api\n",
    "    #these cases are just droped from the model \n",
    "    \n",
    "    try:\n",
    "        result = requests.get(\"https://rest.bandsintown.com/artists/\" +\n",
    "                            band_name +\n",
    "                          \"/events?app_id=2eafc16df6cb4f3db3bb365ca0d91f6e\",)\n",
    "        return (result.json())\n",
    "    except: \n",
    "        return band\n",
    "\n",
    "    \n",
    "    \n",
    "def store_event_data(band_names):\n",
    "    bad_bands = []\n",
    "    c = MongoClient()\n",
    "    capstone_db = mc['bit_scraping']\n",
    "    event_info  = capstone_db['events']\n",
    "    for i, band in enumerate(band_names):\n",
    "        if i%20 == 1:\n",
    "            print('storing tour', i , 'of', len(band_names))\n",
    "        tour = api_tour_call(band) \n",
    "        if tour == band:\n",
    "            bad_bands.append(band)\n",
    "        else:\n",
    "            for j, event in enumerate(tour):\n",
    "                event_info.update_one({'id':event['id']},\n",
    "                                     {'$set': event}, upsert=True)\n",
    "    return bad_bands"
   ]
  },
  {
   "cell_type": "code",
   "execution_count": 2,
   "metadata": {},
   "outputs": [],
   "source": [
    "bands = pd.read_csv('junk_bands.csv')['band_names']\n",
    "#b = get_band_tour(bands[0]).json()"
   ]
  },
  {
   "cell_type": "code",
   "execution_count": 3,
   "metadata": {},
   "outputs": [
    {
     "name": "stdout",
     "output_type": "stream",
     "text": [
      "storing tour 1 of 489\n",
      "storing tour 21 of 489\n",
      "storing tour 41 of 489\n",
      "storing tour 61 of 489\n",
      "storing tour 81 of 489\n",
      "storing tour 101 of 489\n",
      "storing tour 121 of 489\n",
      "storing tour 141 of 489\n",
      "storing tour 161 of 489\n",
      "storing tour 181 of 489\n",
      "storing tour 201 of 489\n",
      "storing tour 221 of 489\n",
      "storing tour 241 of 489\n",
      "storing tour 261 of 489\n",
      "storing tour 281 of 489\n",
      "storing tour 301 of 489\n",
      "storing tour 321 of 489\n",
      "storing tour 341 of 489\n",
      "storing tour 361 of 489\n",
      "storing tour 381 of 489\n",
      "storing tour 401 of 489\n",
      "storing tour 421 of 489\n",
      "storing tour 441 of 489\n",
      "storing tour 461 of 489\n",
      "storing tour 481 of 489\n"
     ]
    },
    {
     "data": {
      "text/plain": [
       "['Musician Jesse Cook',\n",
       " 'Blitzen Trapper',\n",
       " 'Life in the Fast Lane \"Eagles Tribute\"',\n",
       " 'Bob Seger The Silver Bullet Band',\n",
       " 'Daniel Champagne Music']"
      ]
     },
     "execution_count": 3,
     "metadata": {},
     "output_type": "execute_result"
    }
   ],
   "source": [
    "store_event_data(bands)"
   ]
  },
  {
   "cell_type": "code",
   "execution_count": 39,
   "metadata": {},
   "outputs": [
    {
     "data": {
      "text/plain": [
       "{'offers': [{'type': 'VIP',\n",
       "   'url': 'https://www.bandsintown.com/t/1007083232?app_id=2eafc16df6cb4f3db3bb365ca0d91f6e&came_from=267&custom=true',\n",
       "   'status': 'available'},\n",
       "  {'type': 'Tickets',\n",
       "   'url': 'https://www.bandsintown.com/t/1007083232?app_id=2eafc16df6cb4f3db3bb365ca0d91f6e&came_from=267',\n",
       "   'status': 'available'}],\n",
       " 'venue': {'name': 'Greek Theatre (w/ Steve Miller Band)',\n",
       "  'country': 'United States',\n",
       "  'region': 'CA',\n",
       "  'city': 'Los Angeles',\n",
       "  'latitude': '34.1194881',\n",
       "  'longitude': '-118.2962909'},\n",
       " 'datetime': '2018-08-11T19:00:00',\n",
       " 'on_sale_datetime': '2018-02-17T18:00:00',\n",
       " 'description': '',\n",
       " 'lineup': ['Peter Frampton', 'Steve Miller Band'],\n",
       " 'id': '1007083232',\n",
       " 'artist_id': '1955',\n",
       " 'url': 'https://www.bandsintown.com/e/1007083232?app_id=2eafc16df6cb4f3db3bb365ca0d91f6e&came_from=267'}"
      ]
     },
     "execution_count": 39,
     "metadata": {},
     "output_type": "execute_result"
    }
   ],
   "source": [
    "tour[0]"
   ]
  },
  {
   "cell_type": "code",
   "execution_count": 40,
   "metadata": {},
   "outputs": [
    {
     "name": "stdout",
     "output_type": "stream",
     "text": [
      "0\n",
      "1\n",
      "2\n",
      "3\n",
      "4\n",
      "5\n",
      "6\n",
      "7\n",
      "8\n",
      "9\n",
      "10\n",
      "11\n",
      "12\n",
      "13\n",
      "14\n",
      "15\n",
      "16\n",
      "17\n"
     ]
    }
   ],
   "source": [
    "for j, event in enumerate(tour): \n",
    "    print (j)    \n",
    "    event_info.update_one({'id':event['id']},\n",
    "                         {'$set':event}, upsert=True)"
   ]
  },
  {
   "cell_type": "code",
   "execution_count": 5,
   "metadata": {},
   "outputs": [],
   "source": [
    "capstone_db = mc['bit_scraping']\n",
    "event_info  = capstone_db['events']"
   ]
  },
  {
   "cell_type": "code",
   "execution_count": 8,
   "metadata": {},
   "outputs": [
    {
     "data": {
      "text/plain": [
       "<pymongo.results.DeleteResult at 0x10ba96b88>"
      ]
     },
     "execution_count": 8,
     "metadata": {},
     "output_type": "execute_result"
    }
   ],
   "source": [
    "event_info.delete_many({})"
   ]
  },
  {
   "cell_type": "code",
   "execution_count": 17,
   "metadata": {},
   "outputs": [],
   "source": [
    "data = pd.DataFrame(list(event_info.find()))"
   ]
  },
  {
   "cell_type": "code",
   "execution_count": 22,
   "metadata": {},
   "outputs": [
    {
     "data": {
      "text/plain": [
       "10451"
      ]
     },
     "execution_count": 22,
     "metadata": {},
     "output_type": "execute_result"
    }
   ],
   "source": []
  },
  {
   "cell_type": "code",
   "execution_count": 396,
   "metadata": {},
   "outputs": [
    {
     "data": {
      "text/plain": [
       "'This%20Is%20A%20Test'"
      ]
     },
     "execution_count": 396,
     "metadata": {},
     "output_type": "execute_result"
    }
   ],
   "source": [
    "'%20'.join((\"This Is A Test\").split(' '))"
   ]
  },
  {
   "cell_type": "code",
   "execution_count": null,
   "metadata": {},
   "outputs": [],
   "source": []
  }
 ],
 "metadata": {
  "kernelspec": {
   "display_name": "Python 3",
   "language": "python",
   "name": "python3"
  },
  "language_info": {
   "codemirror_mode": {
    "name": "ipython",
    "version": 3
   },
   "file_extension": ".py",
   "mimetype": "text/x-python",
   "name": "python",
   "nbconvert_exporter": "python",
   "pygments_lexer": "ipython3",
   "version": "3.6.5"
  }
 },
 "nbformat": 4,
 "nbformat_minor": 2
}
